{
 "cells": [
  {
   "cell_type": "markdown",
   "id": "ca89c69d-9fec-47ac-b259-9b02df39b4b6",
   "metadata": {
    "id": "ca89c69d-9fec-47ac-b259-9b02df39b4b6"
   },
   "source": [
    "# NMA CN Project"
   ]
  },
  {
   "cell_type": "markdown",
   "id": "7bf2a32b-3365-4ba6-ac6a-e5b05c843c36",
   "metadata": {
    "id": "7bf2a32b-3365-4ba6-ac6a-e5b05c843c36"
   },
   "source": [
    "- **Pod**: careful wolfs ⚠️🐺\n",
    "- **Question**: is there a difference in neural activation at the cell level following stimulus presentation in the active vs passive conditions?"
   ]
  },
  {
   "cell_type": "markdown",
   "id": "7e20e4d4-3b15-4846-a491-23b83e744913",
   "metadata": {
    "tags": [],
    "toc-hr-collapsed": true
   },
   "source": [
    "## Imports"
   ]
  },
  {
   "cell_type": "code",
   "execution_count": 1,
   "id": "b939b49e-a136-4635-8e9f-683ddcc27a0f",
   "metadata": {
    "colab": {
     "base_uri": "https://localhost:8080/",
     "height": 1000
    },
    "id": "b939b49e-a136-4635-8e9f-683ddcc27a0f",
    "outputId": "da88b801-9878-48ca-c83c-b7ebe296390f"
   },
   "outputs": [],
   "source": [
    "# Only for Colab\n",
    "# !python -m pip install --upgrade pip\n",
    "# !pip install allensdk"
   ]
  },
  {
   "cell_type": "code",
   "execution_count": 2,
   "id": "f54b67f6-4d74-4581-bd9e-87f6ca1b65e5",
   "metadata": {
    "id": "f54b67f6-4d74-4581-bd9e-87f6ca1b65e5"
   },
   "outputs": [
    {
     "name": "stderr",
     "output_type": "stream",
     "text": [
      "/home/seungjaeryanlee/anaconda3/envs/nma-cn/lib/python3.8/site-packages/allensdk/brain_observatory/session_api_utils.py:15: FutureWarning: pandas.util.testing is deprecated. Use the functions in the public API at pandas.testing instead.\n",
      "  from pandas.util.testing import assert_frame_equal\n"
     ]
    }
   ],
   "source": [
    "from pathlib import Path\n",
    "from tqdm import tqdm\n",
    "\n",
    "import matplotlib.pyplot as plt\n",
    "import numpy as np\n",
    "import pandas as pd\n",
    "import seaborn as sns\n",
    "\n",
    "from allensdk.brain_observatory.behavior.behavior_project_cache import VisualBehaviorOphysProjectCache"
   ]
  },
  {
   "cell_type": "markdown",
   "id": "f4365eb5-3efb-47a3-ae4c-219fbbc0c93f",
   "metadata": {
    "id": "f4365eb5-3efb-47a3-ae4c-219fbbc0c93f",
    "tags": [],
    "toc-hr-collapsed": true
   },
   "source": [
    "## Setup AllenSDK"
   ]
  },
  {
   "cell_type": "code",
   "execution_count": 3,
   "id": "384272fc-6e1a-48fc-95c3-b8e8c82bb0ce",
   "metadata": {
    "id": "384272fc-6e1a-48fc-95c3-b8e8c82bb0ce"
   },
   "outputs": [],
   "source": [
    "!mkdir -p allensdk_storage\n",
    "DATA_STORAGE_DIRECTORY = Path(\"./allensdk_storage\")"
   ]
  },
  {
   "cell_type": "code",
   "execution_count": 4,
   "id": "7e4dec19-a09f-42a9-acca-83783f51484e",
   "metadata": {
    "colab": {
     "base_uri": "https://localhost:8080/"
    },
    "id": "7e4dec19-a09f-42a9-acca-83783f51484e",
    "outputId": "d93b1b9a-10a2-40d2-ccba-8e45a583d078"
   },
   "outputs": [],
   "source": [
    "cache = VisualBehaviorOphysProjectCache.from_s3_cache(cache_dir=DATA_STORAGE_DIRECTORY)"
   ]
  },
  {
   "cell_type": "code",
   "execution_count": 5,
   "id": "a278be53-4b29-42e6-9acd-564705fb6c5f",
   "metadata": {
    "id": "a278be53-4b29-42e6-9acd-564705fb6c5f"
   },
   "outputs": [],
   "source": [
    "experiments_df = cache.get_ophys_experiment_table()"
   ]
  },
  {
   "cell_type": "markdown",
   "id": "a560169c-c2f1-4b54-9ac2-2487df23c52d",
   "metadata": {
    "tags": [],
    "toc-hr-collapsed": true
   },
   "source": [
    "## Filter `experiments_df`"
   ]
  },
  {
   "cell_type": "code",
   "execution_count": 6,
   "id": "5667f215-6abe-494a-9f81-f7a8d479bf52",
   "metadata": {},
   "outputs": [],
   "source": [
    "PROJECT_CODE = \"VisualBehavior\"\n",
    "FULL_GENOTYPE = \"Slc17a7-IRES2-Cre/wt;Camk2a-tTA/wt;Ai93(TITL-GCaMP6f)/wt\""
   ]
  },
  {
   "cell_type": "code",
   "execution_count": 7,
   "id": "69ba0d01-e3d4-424a-b8d1-3c4673327699",
   "metadata": {},
   "outputs": [],
   "source": [
    "filtered_experiments_df = experiments_df.query(\"project_code == @PROJECT_CODE\") \\\n",
    "                                        .query(\"full_genotype == @FULL_GENOTYPE\")"
   ]
  },
  {
   "cell_type": "markdown",
   "id": "e617b8e4-6762-476e-8a1c-38c8fa439147",
   "metadata": {
    "tags": [],
    "toc-hr-collapsed": true
   },
   "source": [
    "## General Helper Functions\n",
    "- `get_cell_specimen_ids(experiment)`\n",
    "- `get_indices_in_interval(experiment, start, end)`\n",
    "- `get_timestamps_in_interval(experiment, start, end)`\n",
    "- `get_cell_dff_in_interval(experiment, cell_specimen_id, start, end)`"
   ]
  },
  {
   "cell_type": "code",
   "execution_count": 8,
   "id": "c3643cf5-a362-4fd8-a7a7-0c38607d48c9",
   "metadata": {},
   "outputs": [],
   "source": [
    "def get_cell_specimen_ids(experiment):\n",
    "    \"\"\"\n",
    "    Get all the cell specimen ids recorded in the experiment.\n",
    "    \"\"\"\n",
    "    return experiment.dff_traces.index"
   ]
  },
  {
   "cell_type": "code",
   "execution_count": 9,
   "id": "7b59d3c3-e981-4d92-bd5e-4d067a71bb56",
   "metadata": {},
   "outputs": [],
   "source": [
    "def get_indices_in_interval(experiment, start, end):\n",
    "    \"\"\"\n",
    "    Get all indices of timestamps where dF/F trace was recorded during a specified interval.\n",
    "    \"\"\"\n",
    "    indices = np.argwhere((experiment.ophys_timestamps >= start) & (experiment.ophys_timestamps <= end))[:, 0]\n",
    "    return indices"
   ]
  },
  {
   "cell_type": "code",
   "execution_count": 10,
   "id": "46da2011-055f-4287-b45f-47123d96a2cf",
   "metadata": {},
   "outputs": [],
   "source": [
    "def get_timestamps_in_interval(experiment, start, end):\n",
    "    \"\"\"\n",
    "    Get all timestamps when dF/F trace was recorded during a specified interval.\n",
    "    \"\"\"\n",
    "    indices = get_indices_in_interval(experiment, start, end)\n",
    "    return experiment.ophys_timestamps[indices]"
   ]
  },
  {
   "cell_type": "code",
   "execution_count": 11,
   "id": "98015189-a555-43a5-97d7-36beb1e91988",
   "metadata": {},
   "outputs": [],
   "source": [
    "def get_cell_dff_in_interval(experiment, cell_specimen_id, start, end):\n",
    "    \"\"\"\n",
    "    Get dF/F trace for one cell during a specified interval.\n",
    "    \"\"\"\n",
    "    indices = get_indices_in_interval(experiment, start, end)\n",
    "    return experiment.dff_traces.loc[cell_specimen_id][\"dff\"][indices[0]:indices[-1]+1]"
   ]
  },
  {
   "cell_type": "markdown",
   "id": "adc184d6-ac4a-459d-9c84-6538d5d6664c",
   "metadata": {
    "id": "adc184d6-ac4a-459d-9c84-6538d5d6664c",
    "tags": []
   },
   "source": [
    "## Cell Selection"
   ]
  },
  {
   "cell_type": "markdown",
   "id": "48d4a490-05fb-42f9-9d65-2a07a4e9c03c",
   "metadata": {
    "tags": [],
    "toc-hr-collapsed": true
   },
   "source": [
    "### Cell Selection Helper Functions\n",
    "- `get_image_names(experiment)`\n",
    "- `get_image_start_times(experiment, image_name)`\n",
    "- `score_and_sort_cells(experiment, image_name, t_before, t_after, n_before, n_after)`\n",
    "- `plot_score_histogram(scores)`\n",
    "- `plot_dff(experiment, image_name, selected_cell_specimen_ids, t_before, t_after, n_before, n_after)`"
   ]
  },
  {
   "cell_type": "code",
   "execution_count": 12,
   "id": "fe8ddd5d-f8d1-4f78-8a02-8528db257236",
   "metadata": {},
   "outputs": [],
   "source": [
    "def get_image_names(experiment):\n",
    "    return experiment.stimulus_presentations[\"image_name\"].unique()"
   ]
  },
  {
   "cell_type": "code",
   "execution_count": 13,
   "id": "e15a3669-b325-4db7-9d70-320510d70da8",
   "metadata": {},
   "outputs": [],
   "source": [
    "def get_image_start_times(experiment, image_name):\n",
    "    return active_experiment.stimulus_presentations.query(\"image_name == @image_name\")[\"start_time\"]"
   ]
  },
  {
   "cell_type": "code",
   "execution_count": 14,
   "id": "1def93d4-1dee-4645-b90d-1779034c37d7",
   "metadata": {},
   "outputs": [],
   "source": [
    "def score_and_sort_cells(experiment, image_name, t_before, t_after, n_before, n_after):\n",
    "    cell_specimen_ids = get_cell_specimen_ids(active_experiment)\n",
    "    dff_matrix = np.vstack(experiment.dff_traces.dff.values)\n",
    "    stimulus_for_image_start_times = get_image_start_times(experiment, image_name)\n",
    "\n",
    "    # Compute score for each cell\n",
    "    zscored_for_image_lst = []\n",
    "    for stimulus_start_time in tqdm(stimulus_for_image_start_times):\n",
    "        before_indices = get_indices_in_interval(\n",
    "            active_experiment,\n",
    "            start=stimulus_start_time - t_before,\n",
    "            end=stimulus_start_time,\n",
    "        )[-n_before:]\n",
    "        after_indices = get_indices_in_interval(\n",
    "            active_experiment,\n",
    "            start=stimulus_start_time,\n",
    "            end=stimulus_start_time + t_after,\n",
    "        )[:n_after]\n",
    "\n",
    "        before_mean_dff = np.mean(dff_matrix[:, before_indices], axis=1)\n",
    "        before_std_dff = np.std(dff_matrix[:, before_indices], axis=1)\n",
    "\n",
    "        # zscored = ( after stimulus onset dff - mean(before stimulus onset dff) ) / std(before stimulus onset dff)\n",
    "        after_zscored = (dff_matrix[:, after_indices] - np.tile(before_mean_dff, (len(after_indices), 1)).T) / np.tile(before_std_dff, (len(after_indices), 1)).T\n",
    "        zscored_for_image_lst.append(after_zscored)\n",
    "    zscored_for_image = np.stack(zscored_for_image_lst, axis=1)\n",
    "    zscored_mean_over_presentations = np.max(zscored_for_image, axis=2)\n",
    "    max_zscored = np.mean(zscored_mean_over_presentations, axis=1)\n",
    "\n",
    "    sorted_cells_and_scores = sorted(zip(cell_specimen_ids, max_zscored), key=lambda x: x[1], reverse=True)\n",
    "    sorted_cell_specimen_ids = [cns[0] for cns in sorted_cells_and_scores]\n",
    "    sorted_scores = [cns[1] for cns in sorted_cells_and_scores]\n",
    "\n",
    "    return sorted_cell_specimen_ids, sorted_scores"
   ]
  },
  {
   "cell_type": "code",
   "execution_count": 15,
   "id": "e3312683-bd8a-418a-8333-84d0eca9b36a",
   "metadata": {},
   "outputs": [],
   "source": [
    "def plot_score_histogram(scores):\n",
    "    fig, ax = plt.subplots(figsize=(8, 6))\n",
    "\n",
    "    ax = sns.histplot(scores)\n",
    "    ax.set_title(\"Distribution of scores across cells\")\n",
    "\n",
    "    fig.show()"
   ]
  },
  {
   "cell_type": "code",
   "execution_count": 16,
   "id": "e3654153-2c59-43e3-a11b-827a2242ac69",
   "metadata": {},
   "outputs": [],
   "source": [
    "def plot_dff(experiment, image_name, selected_cell_specimen_ids, t_before, t_after, n_before, n_after):\n",
    "    cell_specimen_ids = get_cell_specimen_ids(active_experiment)\n",
    "    stimulus_for_image_start_times = get_image_start_times(experiment, image_name)\n",
    "\n",
    "    # Average dff across all stimulus presentations\n",
    "    dff_matrix = np.vstack(experiment.dff_traces.dff.values)\n",
    "    dff_traces_lst = []\n",
    "    for stimulus_start_time in stimulus_for_image_start_times:\n",
    "        before_indices = get_indices_in_interval(\n",
    "            experiment,\n",
    "            start=stimulus_start_time - t_before,\n",
    "            end=stimulus_start_time,\n",
    "        )[-n_before:]\n",
    "        after_indices = get_indices_in_interval(\n",
    "            experiment,\n",
    "            start=stimulus_start_time,\n",
    "            end=stimulus_start_time + t_after,\n",
    "        )[:n_after]\n",
    "        dff_traces_lst.append(np.hstack((dff_matrix[:, before_indices], dff_matrix[:, after_indices])))\n",
    "    dff_traces = np.stack(dff_traces_lst, axis=1)\n",
    "    dff_traces_mean, dff_traces_std = np.mean(dff_traces, axis=1), np.std(dff_traces, axis=1)\n",
    "\n",
    "    # Choose dff traces for given cell specimen ids\n",
    "    indices = [np.argwhere(cell_specimen_ids == i)[0][0] for i in selected_cell_specimen_ids]\n",
    "    top_k_dff_traces = dff_traces_mean[indices]\n",
    "    top_k_dff_std = dff_traces_std[indices]\n",
    "\n",
    "    # Plot dff traces\n",
    "    fig, ax = plt.subplots(figsize=(8, 6))\n",
    "    xs = np.arange(top_k_dff_traces.shape[1])\n",
    "    ax.plot(xs, top_k_dff_traces.T)\n",
    "    for i in range(len(indices)):\n",
    "        ax.fill_between(\n",
    "            xs,\n",
    "            top_k_dff_traces[i].T - top_k_dff_std[i].T,\n",
    "            top_k_dff_traces[i].T + top_k_dff_std[i].T,\n",
    "            alpha=0.1,\n",
    "        )\n",
    "        ax.axvline(n_before-0.5, color=\"pink\")\n",
    "        ax.set_title(f\"Cell dFF traces for {image_name} in experiment {active_experiment.metadata['ophys_experiment_id']}\\nt=(-{t_before},{t_after}), n=(-{n_before},{n_after})\")\n",
    "        fig.legend(selected_cell_specimen_ids)\n",
    "\n",
    "    fig.show()"
   ]
  },
  {
   "cell_type": "markdown",
   "id": "21ba9566-514c-4507-8bf0-e1bce213e65e",
   "metadata": {},
   "source": [
    "### Experiments"
   ]
  },
  {
   "cell_type": "code",
   "execution_count": 17,
   "id": "55a8994d-7834-495e-982c-36333473af86",
   "metadata": {},
   "outputs": [
    {
     "data": {
      "text/plain": [
       "array([450471, 459777, 459773, 447663, 445270, 403491, 456917, 456916,\n",
       "       425493, 431023, 436662, 440298, 431252, 453913, 412366, 425496,\n",
       "       445002])"
      ]
     },
     "execution_count": 17,
     "metadata": {},
     "output_type": "execute_result"
    }
   ],
   "source": [
    "filtered_experiments_df[\"mouse_id\"].unique()"
   ]
  },
  {
   "cell_type": "code",
   "execution_count": 18,
   "id": "a3a4d7e4-ce0a-4f45-88e0-2807f0d2c18e",
   "metadata": {},
   "outputs": [],
   "source": [
    "MOUSE_ID = 450471"
   ]
  },
  {
   "cell_type": "code",
   "execution_count": 19,
   "id": "0562af09-bcbb-4f69-b662-a53c3027bf5a",
   "metadata": {},
   "outputs": [
    {
     "data": {
      "text/plain": [
       "ophys_experiment_id\n",
       "871155338            OPHYS_1_images_A\n",
       "872433717            OPHYS_1_images_A\n",
       "873156540            OPHYS_1_images_A\n",
       "873972085            OPHYS_1_images_A\n",
       "877022592    OPHYS_2_images_A_passive\n",
       "878363088            OPHYS_3_images_A\n",
       "879331157            OPHYS_4_images_B\n",
       "880374622    OPHYS_5_images_B_passive\n",
       "880961028            OPHYS_6_images_B\n",
       "Name: session_type, dtype: object"
      ]
     },
     "execution_count": 19,
     "metadata": {},
     "output_type": "execute_result"
    }
   ],
   "source": [
    "filtered_experiments_df.query(\"mouse_id == @MOUSE_ID\")[\"session_type\"]"
   ]
  },
  {
   "cell_type": "code",
   "execution_count": 20,
   "id": "DCi3b6RCdYzt",
   "metadata": {
    "colab": {
     "base_uri": "https://localhost:8080/"
    },
    "id": "DCi3b6RCdYzt",
    "outputId": "cd9b52a9-5025-4305-b9c8-fe8a5766ff6b"
   },
   "outputs": [],
   "source": [
    "active_experiment = cache.get_behavior_ophys_experiment(871155338)"
   ]
  },
  {
   "cell_type": "code",
   "execution_count": 21,
   "id": "e19eb45f-70b3-481d-ab8a-e79aacff7f58",
   "metadata": {},
   "outputs": [
    {
     "data": {
      "text/plain": [
       "array(['im065', 'omitted', 'im063', 'im061', 'im077', 'im085', 'im066',\n",
       "       'im062', 'im069'], dtype=object)"
      ]
     },
     "execution_count": 21,
     "metadata": {},
     "output_type": "execute_result"
    }
   ],
   "source": [
    "get_image_names(active_experiment)"
   ]
  },
  {
   "cell_type": "markdown",
   "id": "2d0213c5-98ec-4a4d-a94e-eb59e5d29d17",
   "metadata": {},
   "source": [
    "---"
   ]
  },
  {
   "cell_type": "code",
   "execution_count": 22,
   "id": "1f5bdc2f-d044-410b-934b-1d9d4fdc7621",
   "metadata": {},
   "outputs": [
    {
     "name": "stderr",
     "output_type": "stream",
     "text": [
      "100%|██████████| 644/644 [00:00<00:00, 941.62it/s] \n"
     ]
    }
   ],
   "source": [
    "sorted_cell_specimen_ids, sorted_scores = score_and_sort_cells(active_experiment, \"im085\", t_before=0.25, t_after=0.25, n_before=7, n_after=7)"
   ]
  },
  {
   "cell_type": "code",
   "execution_count": 23,
   "id": "k-hMLvQQlnIr",
   "metadata": {
    "colab": {
     "base_uri": "https://localhost:8080/",
     "height": 298
    },
    "id": "k-hMLvQQlnIr",
    "outputId": "0e63e40a-c685-4e53-be88-5aec45996c2f"
   },
   "outputs": [
    {
     "data": {
      "image/png": "[encoded data removed]",
      "text/plain": [
       "<Figure size 576x432 with 1 Axes>"
      ]
     },
     "metadata": {
      "needs_background": "light"
     },
     "output_type": "display_data"
    }
   ],
   "source": [
    "plot_score_histogram(sorted_scores)"
   ]
  },
  {
   "cell_type": "code",
   "execution_count": 24,
   "id": "feb62900-bb5c-4514-bc80-a273ad645b1b",
   "metadata": {},
   "outputs": [
    {
     "data": {
      "text/plain": [
       "[(1086522347, 3.5926475626599217),\n",
       " (1086548183, 2.5300113049374775),\n",
       " (1086524443, 2.30302956655718),\n",
       " (1086527587, 2.0944942408973737),\n",
       " (1086526507, 1.9417895975918296)]"
      ]
     },
     "execution_count": 24,
     "metadata": {},
     "output_type": "execute_result"
    }
   ],
   "source": [
    "list(zip(sorted_cell_specimen_ids, sorted_scores))[:5]"
   ]
  },
  {
   "cell_type": "code",
   "execution_count": 25,
   "id": "867955c1-05e2-4f90-bf51-354eea3e0cb6",
   "metadata": {},
   "outputs": [
    {
     "data": {
      "image/png": "[encoded data removed]",
      "text/plain": [
       "<Figure size 576x432 with 1 Axes>"
      ]
     },
     "metadata": {
      "needs_background": "light"
     },
     "output_type": "display_data"
    }
   ],
   "source": [
    "plot_dff(active_experiment, \"im085\", sorted_cell_specimen_ids[:5], t_before=0.25, t_after=0.75, n_before=7, n_after=21)"
   ]
  }
 ],
 "metadata": {
  "colab": {
   "name": "Single Cells.ipynb",
   "provenance": []
  },
  "kernelspec": {
   "display_name": "Python [conda env:nma-cn]",
   "language": "python",
   "name": "conda-env-nma-cn-py"
  },
  "language_info": {
   "codemirror_mode": {
    "name": "ipython",
    "version": 3
   },
   "file_extension": ".py",
   "mimetype": "text/x-python",
   "name": "python",
   "nbconvert_exporter": "python",
   "pygments_lexer": "ipython3",
   "version": "3.8.10"
  }
 },
 "nbformat": 4,
 "nbformat_minor": 5
}
