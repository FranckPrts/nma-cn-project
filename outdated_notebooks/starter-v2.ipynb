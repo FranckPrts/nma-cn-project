{
 "cells": [
  {
   "cell_type": "markdown",
   "id": "ca89c69d-9fec-47ac-b259-9b02df39b4b6",
   "metadata": {},
   "source": [
    "# NMA CN Project"
   ]
  },
  {
   "cell_type": "markdown",
   "id": "7bf2a32b-3365-4ba6-ac6a-e5b05c843c36",
   "metadata": {},
   "source": [
    "- **Pod**: careful wolfs ⚠️🐺\n",
    "- **Question**: is there a difference in neural activation at the cell level following stimulus presentation in the active vs passive conditions?"
   ]
  },
  {
   "cell_type": "code",
   "execution_count": null,
   "id": "b939b49e-a136-4635-8e9f-683ddcc27a0f",
   "metadata": {},
   "outputs": [],
   "source": [
    "# Only for Colab\n",
    "# !python -m pip install --upgrade pip\n",
    "# !pip install allensdk"
   ]
  },
  {
   "cell_type": "markdown",
   "id": "a8940850-6f0c-4d96-9823-82b2dd67edc4",
   "metadata": {
    "tags": [],
    "toc-hr-collapsed": true
   },
   "source": [
    "## References"
   ]
  },
  {
   "cell_type": "markdown",
   "id": "83cdd426-0b15-4c42-a38e-1e27971008e4",
   "metadata": {},
   "source": [
    "- [[AllenNB1]](https://allensdk.readthedocs.io/en/latest/_static/examples/nb/visual_behavior_ophys_data_access.html) Download data using the AllenSDK or directly from our Amazon S3 bucket\n",
    "- [[AllenNB2]](https://allensdk.readthedocs.io/en/latest/_static/examples/nb/visual_behavior_ophys_dataset_manifest.html) Identify experiments of interest using the dataset manifest\n",
    "- [[AllenNB3]](https://allensdk.readthedocs.io/en/latest/_static/examples/nb/visual_behavior_load_ophys_data.html) Load and visualize data from a 2-photon imaging experiment\n",
    "- [[AllenNB4]](https://allensdk.readthedocs.io/en/latest/_static/examples/nb/visual_behavior_mouse_history.html) Examine the full training history of one mouse\n",
    "- [[AllenNB5]](https://allensdk.readthedocs.io/en/latest/_static/examples/nb/visual_behavior_compare_across_trial_types.html) Compare behavior and neural activity across different trial types in the task"
   ]
  },
  {
   "cell_type": "markdown",
   "id": "cb91a76d-02ab-46f2-99cc-ab33a81c695d",
   "metadata": {
    "tags": [],
    "toc-hr-collapsed": true
   },
   "source": [
    "## Imports\n",
    "\n",
    "Import and setup Python packages. You should not need to touch this section."
   ]
  },
  {
   "cell_type": "code",
   "execution_count": 1,
   "id": "f54b67f6-4d74-4581-bd9e-87f6ca1b65e5",
   "metadata": {},
   "outputs": [
    {
     "name": "stderr",
     "output_type": "stream",
     "text": [
      "/home/seungjaeryanlee/anaconda3/envs/nma-cn/lib/python3.8/site-packages/allensdk/brain_observatory/session_api_utils.py:15: FutureWarning: pandas.util.testing is deprecated. Use the functions in the public API at pandas.testing instead.\n",
      "  from pandas.util.testing import assert_frame_equal\n"
     ]
    }
   ],
   "source": [
    "from pathlib import Path\n",
    "from tqdm import tqdm\n",
    "\n",
    "import matplotlib.pyplot as plt\n",
    "import numpy as np\n",
    "import pandas as pd\n",
    "import seaborn as sns\n",
    "\n",
    "from allensdk.brain_observatory.behavior.behavior_project_cache import VisualBehaviorOphysProjectCache\n",
    "\n",
    "# import mindscope_utilities\n",
    "# import mindscope_utilities.visual_behavior_ophys as ophys"
   ]
  },
  {
   "cell_type": "code",
   "execution_count": 2,
   "id": "2704de60-8e2c-4991-bb17-2c550f9edcf7",
   "metadata": {},
   "outputs": [],
   "source": [
    "np.random.seed(42)"
   ]
  },
  {
   "cell_type": "markdown",
   "id": "f4365eb5-3efb-47a3-ae4c-219fbbc0c93f",
   "metadata": {
    "tags": [],
    "toc-hr-collapsed": true
   },
   "source": [
    "## Setup AllenSDK\n",
    "\n",
    "Configure AllenSDK to get `cache`, `sessions_df` and `experiments_df`. Data will be stored in `./allensdk_storage` by default."
   ]
  },
  {
   "cell_type": "code",
   "execution_count": 3,
   "id": "384272fc-6e1a-48fc-95c3-b8e8c82bb0ce",
   "metadata": {},
   "outputs": [],
   "source": [
    "!mkdir -p allensdk_storage\n",
    "DATA_STORAGE_DIRECTORY = Path(\"./allensdk_storage\")"
   ]
  },
  {
   "cell_type": "code",
   "execution_count": 4,
   "id": "7e4dec19-a09f-42a9-acca-83783f51484e",
   "metadata": {},
   "outputs": [],
   "source": [
    "cache = VisualBehaviorOphysProjectCache.from_s3_cache(cache_dir=DATA_STORAGE_DIRECTORY)"
   ]
  },
  {
   "cell_type": "markdown",
   "id": "a5ff91f0-528e-428c-b9b6-6e982829cdc1",
   "metadata": {},
   "source": [
    "The data manifest is comprised of three types of tables:\n",
    "\n",
    "1. `behavior_session_table`\n",
    "2. `ophys_session_table`\n",
    "3. `ophys_experiment_table`\n",
    "\n",
    "The` behavior_session_table` contains metadata for every **behavior session** in the dataset. Some behavior sessions have 2-photon data associated with them, while others took place during training in the behavior facility. The different training stages that mice are progressed through are described by the session_type.\n",
    "\n",
    "The `ophys_session_table` contains metadata for every 2-photon imaging (aka optical physiology, or ophys) session in the dataset, associated with a unique `ophys_session_id`. An **ophys session** is one continuous recording session under the microscope, and can contain different numbers of imaging planes (aka experiments) depending on which microscope was used. For Scientifica sessions, there will only be one experiment (aka imaging plane) per session. For Multiscope sessions, there can be up to eight imaging planes per session. Quality Control (QC) is performed on each individual imaging plane within a session, so each can fail QC independent of the others. This means that a Multiscope session may not have exactly eight experiments (imaging planes).\n",
    "\n",
    "The `ophys_experiment_table` contains metadata for every **ophys experiment** in the dataset, which corresponds to a single imaging plane recorded in a single session, and associated with a unique `ophys_experiment_id`. A key part of our experimental design is targeting a given population of neurons, contained in one imaging plane, across multiple `session_types` (further described below) to examine the impact of varying sensory and behavioral conditions on single cell responses. The collection of all imaging sessions for a given imaging plane is referred to as an **ophys container**, associated with a unique `ophys_container_id`. Each ophys container may contain different numbers of sessions, depending on which experiments passed QC, and how many retakes occured (when a given session_type fails QC on the first try, an attempt is made to re-acquire the `session_type` on a different recording day - this is called a retake, also described further below).\n",
    "\n",
    "*Text copied from [[AllenNB2]](#References)*"
   ]
  },
  {
   "cell_type": "markdown",
   "id": "f4b4e02a-eaf1-475a-86d3-25078e4275c7",
   "metadata": {},
   "source": [
    "---"
   ]
  },
  {
   "cell_type": "markdown",
   "id": "28a83218-e1d2-45ed-99f1-f12eb2a03099",
   "metadata": {},
   "source": [
    "We will just use the `ophys_experiment_table`."
   ]
  },
  {
   "cell_type": "code",
   "execution_count": 5,
   "id": "a278be53-4b29-42e6-9acd-564705fb6c5f",
   "metadata": {},
   "outputs": [],
   "source": [
    "experiments_df = cache.get_ophys_experiment_table()"
   ]
  },
  {
   "cell_type": "markdown",
   "id": "cbdcff08-33da-4c3d-9277-2dc93e38533a",
   "metadata": {
    "tags": [],
    "toc-hr-collapsed": true
   },
   "source": [
    "## Specify Experiment\n",
    "\n",
    "Get 1 active and 1 passive experiment that meet the following criteria:\n",
    "- Excitatory cells\n",
    "- Single-plane imaging"
   ]
  },
  {
   "cell_type": "markdown",
   "id": "4cbbeb11-2ffa-454d-a4de-7517196a0451",
   "metadata": {
    "tags": [],
    "toc-hr-collapsed": true
   },
   "source": [
    "### Cre Line and Reporter Line"
   ]
  },
  {
   "cell_type": "markdown",
   "id": "90691978-a42e-4d1f-9657-1613417d4b56",
   "metadata": {},
   "source": [
    "<img style=\"width: 50%\" src=\"images/cre_lines.png\">"
   ]
  },
  {
   "cell_type": "markdown",
   "id": "5f26006b-3cba-4616-9cdc-181af3d406b1",
   "metadata": {},
   "source": [
    " The `cre_line` determines which genetically identified neuron type will be labeled by the reporter_line.\n",
    " \n",
    " This dataset have 3 `cre_line`:\n",
    " - **Slc17a7-IRES2-Cre**, which labels excitatory neurons across all cortical layers\n",
    " - **Sst-IRES-Cre** which labels somatostatin expressing inhibitory interneurons\n",
    " - **Vip-IRES-Cre**, which labels vasoactive intestinal peptide expressing inhibitory interneurons\n",
    " \n",
    "*Text copied from [[AllenNB2]](#References)*"
   ]
  },
  {
   "cell_type": "code",
   "execution_count": 6,
   "id": "8a2141bc-5336-44d8-9d9d-597e1e8dab45",
   "metadata": {},
   "outputs": [
    {
     "data": {
      "text/plain": [
       "array(['Sst-IRES-Cre', 'Vip-IRES-Cre', 'Slc17a7-IRES2-Cre'], dtype=object)"
      ]
     },
     "execution_count": 6,
     "metadata": {},
     "output_type": "execute_result"
    }
   ],
   "source": [
    "experiments_df[\"cre_line\"].unique()"
   ]
  },
  {
   "cell_type": "markdown",
   "id": "fd05da83-e4a7-4cda-bf58-41851bb94632",
   "metadata": {},
   "source": [
    "There are also 3 `reporter_line`:\n",
    " - **Ai93(TITL-GCaMP6f)**, which expresses the genetically encoded calcium indicator GCaMP6f (f is for 'fast', this reporter has fast offset kinetics, but is only moderately sensitive to calcium relative to other sensors) in cre labeled neurons\n",
    " - **Ai94(TITL-GCaMP6s)**, which expresses the indicator GCaMP6s (s is for 'slow', this reporter is very sensitive to calcium but has slow offset kinetics), and\n",
    " - **Ai148(TIT2L-GC6f-ICL-tTA2)**, which expresses GCaMP6f using a self-enhancing system to achieve higher expression than other reporter lines (which proved necessary to label inhibitory neurons specifically). "
   ]
  },
  {
   "cell_type": "code",
   "execution_count": 7,
   "id": "0537b830-b19a-4949-9d93-762d27b8f245",
   "metadata": {},
   "outputs": [
    {
     "data": {
      "text/plain": [
       "array(['Ai148(TIT2L-GC6f-ICL-tTA2)', 'Ai94(TITL-GCaMP6s)',\n",
       "       'Ai93(TITL-GCaMP6f)'], dtype=object)"
      ]
     },
     "execution_count": 7,
     "metadata": {},
     "output_type": "execute_result"
    }
   ],
   "source": [
    "experiments_df[\"reporter_line\"].unique()"
   ]
  },
  {
   "cell_type": "markdown",
   "id": "bba8395d-5bee-4da1-b3c2-8ded602ab8df",
   "metadata": {},
   "source": [
    "The specific `indicator` expressed by each `reporter_line` also has its own column in the table."
   ]
  },
  {
   "cell_type": "code",
   "execution_count": 8,
   "id": "e1e073c2-6f90-4606-84d2-a314608e6afb",
   "metadata": {},
   "outputs": [
    {
     "data": {
      "text/plain": [
       "array(['GCaMP6f', 'GCaMP6s'], dtype=object)"
      ]
     },
     "execution_count": 8,
     "metadata": {},
     "output_type": "execute_result"
    }
   ],
   "source": [
    "experiments_df[\"indicator\"].unique()"
   ]
  },
  {
   "cell_type": "markdown",
   "id": "f9b8455e-aea8-4151-8a6f-c24c1dbb3d3a",
   "metadata": {},
   "source": [
    "`full_genotype` contains information for both cre line and reporter line."
   ]
  },
  {
   "cell_type": "code",
   "execution_count": 9,
   "id": "8a0b9edf-4911-433b-8e5f-6b685d052d02",
   "metadata": {},
   "outputs": [
    {
     "data": {
      "text/plain": [
       "array(['Sst-IRES-Cre/wt;Ai148(TIT2L-GC6f-ICL-tTA2)/wt',\n",
       "       'Vip-IRES-Cre/wt;Ai148(TIT2L-GC6f-ICL-tTA2)/wt',\n",
       "       'Slc17a7-IRES2-Cre/wt;Camk2a-tTA/wt;Ai94(TITL-GCaMP6s)/wt',\n",
       "       'Slc17a7-IRES2-Cre/wt;Camk2a-tTA/wt;Ai93(TITL-GCaMP6f)/wt'],\n",
       "      dtype=object)"
      ]
     },
     "execution_count": 9,
     "metadata": {},
     "output_type": "execute_result"
    }
   ],
   "source": [
    "experiments_df[\"full_genotype\"].unique()"
   ]
  },
  {
   "cell_type": "markdown",
   "id": "5bc6b1bf-6364-4a9e-bf8b-485dddb67f69",
   "metadata": {
    "tags": [],
    "toc-hr-collapsed": true
   },
   "source": [
    "---"
   ]
  },
  {
   "cell_type": "markdown",
   "id": "6f037afd-bd24-473a-acf8-036b73142665",
   "metadata": {},
   "source": [
    "We are looking at excitatory cells, so we should use `cre_line` of `Slc17a7-IRES2-Cre`. We did not select a particular `reporter_line`, so we can either."
   ]
  },
  {
   "cell_type": "code",
   "execution_count": 10,
   "id": "fd890ee2-1e7a-4a8e-abfa-048d77d485ab",
   "metadata": {},
   "outputs": [],
   "source": [
    "FULL_GENOTYPE = \"Slc17a7-IRES2-Cre/wt;Camk2a-tTA/wt;Ai94(TITL-GCaMP6s)/wt\""
   ]
  },
  {
   "cell_type": "markdown",
   "id": "f6d9121e-ff34-4550-b3bd-f74a599bddd2",
   "metadata": {
    "tags": [],
    "toc-hr-collapsed": true
   },
   "source": [
    "### Project Code"
   ]
  },
  {
   "cell_type": "markdown",
   "id": "b9a08477-1a5e-400e-a785-ce41b1e15abb",
   "metadata": {},
   "source": [
    "<img style=\"width: 50%\" src=\"images/datasets.png\">"
   ]
  },
  {
   "cell_type": "markdown",
   "id": "18579e33-79f4-494b-acea-93ba8b165cf6",
   "metadata": {},
   "source": [
    "\"The distinct groups of mice are referred to as dataset variants and can be identified using the `project_code` column.\" [[AllenNB2]](#References)"
   ]
  },
  {
   "cell_type": "code",
   "execution_count": 11,
   "id": "b1ce3294-f20d-4188-86b6-6cc41236950f",
   "metadata": {},
   "outputs": [
    {
     "data": {
      "text/plain": [
       "array(['VisualBehaviorMultiscope', 'VisualBehaviorTask1B',\n",
       "       'VisualBehavior'], dtype=object)"
      ]
     },
     "execution_count": 11,
     "metadata": {},
     "output_type": "execute_result"
    }
   ],
   "source": [
    "experiments_df[\"project_code\"].unique()"
   ]
  },
  {
   "cell_type": "markdown",
   "id": "3b83ae0f-76f0-400a-bac9-c9e15d631f1e",
   "metadata": {},
   "source": [
    "---"
   ]
  },
  {
   "cell_type": "markdown",
   "id": "8facda9d-a976-49d4-8c85-f1d6a5611555",
   "metadata": {},
   "source": [
    "We are interested in single-plane imaging, so either `VisualBehavior` or `VisualBehaviorTask1B` works."
   ]
  },
  {
   "cell_type": "code",
   "execution_count": 12,
   "id": "d776e736-3611-4642-8ed4-bc27fbafca2a",
   "metadata": {},
   "outputs": [],
   "source": [
    "# We are looking at single-plane imaging\n",
    "# \"VisualBehavior\" or \"VisualBehaviorTask1B\"\n",
    "PROJECT_CODE = \"VisualBehavior\""
   ]
  },
  {
   "cell_type": "markdown",
   "id": "63f9b9e4-35f5-4b60-bf48-34651f6aee17",
   "metadata": {
    "tags": [],
    "toc-hr-collapsed": true
   },
   "source": [
    "### Experiment"
   ]
  },
  {
   "cell_type": "markdown",
   "id": "6dca835b-2eb7-4b87-9d7d-3d05347c58ee",
   "metadata": {},
   "source": [
    "<img style=\"width: 50%\" src=\"images/data_structure.png\">"
   ]
  },
  {
   "cell_type": "markdown",
   "id": "a363882d-4a81-47a7-833c-47872e602bd6",
   "metadata": {},
   "source": [
    "(Note that we are looking at single-plane imaging, so there is only one row (container) per mouse.)"
   ]
  },
  {
   "cell_type": "markdown",
   "id": "63c0e3d5-c10a-47fb-8982-6c5b3927ef9e",
   "metadata": {
    "tags": []
   },
   "source": [
    "#### `MOUSE_ID`"
   ]
  },
  {
   "cell_type": "markdown",
   "id": "d9b22f52-5819-4de2-b465-aae8bcd503a8",
   "metadata": {},
   "source": [
    "\"The mouse_id is a 6-digit unique identifier for each experimental animal in the dataset.\" [[AllenNB2]](#References)"
   ]
  },
  {
   "cell_type": "markdown",
   "id": "48269d3b-7c6e-415a-bb69-0a62a56635c0",
   "metadata": {},
   "source": [
    "---"
   ]
  },
  {
   "cell_type": "markdown",
   "id": "e11eb3f1-cbfd-4907-838a-d99f6cb3fa2b",
   "metadata": {},
   "source": [
    "We retrieve all mouse that can be used for our experiment and select one mouse."
   ]
  },
  {
   "cell_type": "code",
   "execution_count": 13,
   "id": "0b827210-6a35-4510-8656-39fcf0b97d49",
   "metadata": {},
   "outputs": [
    {
     "data": {
      "text/plain": [
       "array([449441, 448900, 456564, 479426, 457766, 423606, 442709])"
      ]
     },
     "execution_count": 13,
     "metadata": {},
     "output_type": "execute_result"
    }
   ],
   "source": [
    "experiments_df.query(\"project_code == @PROJECT_CODE\") \\\n",
    "              .query(\"full_genotype == @FULL_GENOTYPE\") \\\n",
    "              [\"mouse_id\"].unique()"
   ]
  },
  {
   "cell_type": "code",
   "execution_count": 14,
   "id": "e868d5cf-f53b-447c-8aae-64e4345b4294",
   "metadata": {},
   "outputs": [],
   "source": [
    "MOUSE_ID = 449441"
   ]
  },
  {
   "cell_type": "markdown",
   "id": "34fb2d52-20b3-4538-a394-80fca3a1832a",
   "metadata": {
    "tags": []
   },
   "source": [
    "#### `ACTIVE_SESSION`, `PASSIVE_SESSION`"
   ]
  },
  {
   "cell_type": "markdown",
   "id": "68c8c375-3c80-41ea-bb15-3f9005f8eae5",
   "metadata": {},
   "source": [
    "<img style=\"width: 50%\" src=\"images/experiment_design.png\">"
   ]
  },
  {
   "cell_type": "markdown",
   "id": "f076c0ba-1646-46c1-80e2-26d74bd743ee",
   "metadata": {},
   "source": [
    "The session_type for each behavior session indicates the behavioral training stage or 2-photon imaging conditions for that particular session. This determines what stimuli were shown and what task parameters were used.\n",
    "\n",
    "During the 2-photon imaging portion of the experiment, mice perform the task with the same set of images they saw during training (either image set A or B), as well as an additional novel set of images (whichever of A or B that they did not see during training). This allows evaluation of the impact of different sensory contexts on neural activity - familiarity versus novelty.\n",
    " - Sessions with **familiar images** include those starting with `OPHYS_0`, `OPHYS_1`, `OPHYS_2`, and `OPHYS_3`.\n",
    " - Sessions with **novel images** include those starting with `OPHYS_4`, `OPHYS_5`, and `OPHYS_6`.\n",
    "\n",
    "Interleaved between **active behavior sessions** are **passive viewing sessions** where mice are given their daily water ahead of the sesssion (and are thus satiated) and view the stimulus with the lick spout retracted so they are unable to earn water rewards. This allows comparison of neural activity in response to stimuli under different behavioral context - active task engagement and passive viewing without reward. There are two passive sessions:\n",
    " - `OPHYS_2_images_A_passive`: passive session with familiar images\n",
    " - `OPHYS_5_images_A_passive`: passive session with novel images\n",
    "\n",
    "\n",
    "\n",
    "*Text copied from [[AllenNB2]](#References)*"
   ]
  },
  {
   "cell_type": "markdown",
   "id": "d4f096c5-3c7b-48a7-aa6e-2ed72128569d",
   "metadata": {},
   "source": [
    "---"
   ]
  },
  {
   "cell_type": "markdown",
   "id": "183c87d4-c1ae-4914-bb95-977d70f40ed8",
   "metadata": {},
   "source": [
    "We check which sessions are available for this particular mouse and select one active and one passive session type. Not all sessions may be availble due to QC."
   ]
  },
  {
   "cell_type": "code",
   "execution_count": 15,
   "id": "08c0cf29-1aa7-4574-979a-189dd99c7e50",
   "metadata": {},
   "outputs": [
    {
     "data": {
      "text/plain": [
       "array(['OPHYS_2_images_A_passive', 'OPHYS_1_images_A', 'OPHYS_4_images_B',\n",
       "       'OPHYS_6_images_B', 'OPHYS_5_images_B_passive'], dtype=object)"
      ]
     },
     "execution_count": 15,
     "metadata": {},
     "output_type": "execute_result"
    }
   ],
   "source": [
    "experiments_df.query(\"project_code == @PROJECT_CODE\") \\\n",
    "              .query(\"full_genotype == @FULL_GENOTYPE\") \\\n",
    "              .query(\"mouse_id == @MOUSE_ID\") \\\n",
    "              [\"session_type\"].unique()"
   ]
  },
  {
   "cell_type": "code",
   "execution_count": 16,
   "id": "82943924-b380-4c22-a6cb-567d8f5be5bb",
   "metadata": {},
   "outputs": [],
   "source": [
    "ACTIVE_SESSION_TYPE = \"OPHYS_1_images_A\"\n",
    "PASSIVE_SESSION_TYPE = \"OPHYS_2_images_A_passive\""
   ]
  },
  {
   "cell_type": "markdown",
   "id": "ea679b6e-237e-4b9e-a5f2-02f4d57f26e6",
   "metadata": {
    "tags": []
   },
   "source": [
    "#### `ACTIVE_EXPERIMENT_ID`, `PASSIVE_EXPERIMENT_ID`"
   ]
  },
  {
   "cell_type": "markdown",
   "id": "de175346-a6ca-443a-aa79-77e9eaff1649",
   "metadata": {},
   "source": [
    "We retrieve the `ophys_experiment_id` of each session type we chose. We need this ID to get the experiment data."
   ]
  },
  {
   "cell_type": "code",
   "execution_count": 17,
   "id": "19ee6956-b3e8-4827-893a-a2e45a911c44",
   "metadata": {},
   "outputs": [
    {
     "data": {
      "text/plain": [
       "Int64Index([879332693], dtype='int64', name='ophys_experiment_id')"
      ]
     },
     "execution_count": 17,
     "metadata": {},
     "output_type": "execute_result"
    }
   ],
   "source": [
    "experiments_df.query(\"project_code == @PROJECT_CODE\") \\\n",
    "              .query(\"full_genotype == @FULL_GENOTYPE\") \\\n",
    "              .query(\"mouse_id == @MOUSE_ID\") \\\n",
    "              .query(\"session_type == @ACTIVE_SESSION_TYPE\") \\\n",
    "              .index"
   ]
  },
  {
   "cell_type": "code",
   "execution_count": 18,
   "id": "926cc497-1668-463c-b98d-9d3a9e41dc0e",
   "metadata": {},
   "outputs": [],
   "source": [
    "ACTIVE_EXPERIMENT_ID = 879332693"
   ]
  },
  {
   "cell_type": "code",
   "execution_count": 19,
   "id": "062f98ae-c6da-497b-8e17-3e9ad33adedd",
   "metadata": {},
   "outputs": [
    {
     "data": {
      "text/plain": [
       "Int64Index([877696762], dtype='int64', name='ophys_experiment_id')"
      ]
     },
     "execution_count": 19,
     "metadata": {},
     "output_type": "execute_result"
    }
   ],
   "source": [
    "experiments_df.query(\"project_code == @PROJECT_CODE\") \\\n",
    "              .query(\"full_genotype == @FULL_GENOTYPE\") \\\n",
    "              .query(\"mouse_id == @MOUSE_ID\") \\\n",
    "              .query(\"session_type == @PASSIVE_SESSION_TYPE\").index"
   ]
  },
  {
   "cell_type": "code",
   "execution_count": 20,
   "id": "42d4f0ea-ef74-48ae-b3c6-25f3e90cc94e",
   "metadata": {},
   "outputs": [],
   "source": [
    "PASSIVE_EXPERIMENT_ID = 877696762"
   ]
  },
  {
   "cell_type": "markdown",
   "id": "90fa7fcd-c21d-4e60-aead-a976492f64d8",
   "metadata": {
    "tags": [],
    "toc-hr-collapsed": true
   },
   "source": [
    "## Explore Experiment"
   ]
  },
  {
   "cell_type": "markdown",
   "id": "1ddd2f10-ea9d-4890-bd99-e13f5bc0874b",
   "metadata": {},
   "source": [
    "We can now download the experiment. Each experiment will be approximately 2GB in size."
   ]
  },
  {
   "cell_type": "code",
   "execution_count": 21,
   "id": "fb5b3ceb-0c11-4ac3-bbba-e52b43fbc556",
   "metadata": {},
   "outputs": [],
   "source": [
    "active_experiment = cache.get_behavior_ophys_experiment(ACTIVE_EXPERIMENT_ID)"
   ]
  },
  {
   "cell_type": "code",
   "execution_count": 22,
   "id": "3f0c88ad-893d-424a-831c-c093168dd54d",
   "metadata": {},
   "outputs": [
    {
     "data": {
      "text/plain": [
       "<allensdk.brain_observatory.behavior.behavior_ophys_experiment.BehaviorOphysExperiment at 0x7f00f89d1520>"
      ]
     },
     "execution_count": 22,
     "metadata": {},
     "output_type": "execute_result"
    }
   ],
   "source": [
    "active_experiment"
   ]
  },
  {
   "cell_type": "markdown",
   "id": "81d3c04a-447d-4b12-8863-7cfaa1d39c9d",
   "metadata": {},
   "source": [
    "This returns an instance of `BehaviorOphysExperiment`. It contains multiple attributes that we will need to explore."
   ]
  },
  {
   "cell_type": "markdown",
   "id": "20f3d0a8-6a13-47ae-924e-7915dd90312d",
   "metadata": {
    "tags": []
   },
   "source": [
    "### What's In Here?"
   ]
  },
  {
   "cell_type": "markdown",
   "id": "a7b50b07-53a5-4a3b-92b1-4b611387bdd6",
   "metadata": {
    "tags": [],
    "toc-hr-collapsed": true
   },
   "source": [
    "#### `dff_traces`"
   ]
  },
  {
   "cell_type": "markdown",
   "id": "a2b67559-0c08-47da-ab32-3006242ea522",
   "metadata": {},
   "source": [
    "\"`dff_traces` dataframe contains traces for all neurons in this experiment, unaligned to any events in the task.\" [[AllenNB3]](#References)"
   ]
  },
  {
   "cell_type": "code",
   "execution_count": 23,
   "id": "135138ab-cb99-4719-9a77-0b538b27aa5d",
   "metadata": {},
   "outputs": [
    {
     "data": {
      "text/html": [
       "<div>\n",
       "<style scoped>\n",
       "    .dataframe tbody tr th:only-of-type {\n",
       "        vertical-align: middle;\n",
       "    }\n",
       "\n",
       "    .dataframe tbody tr th {\n",
       "        vertical-align: top;\n",
       "    }\n",
       "\n",
       "    .dataframe thead th {\n",
       "        text-align: right;\n",
       "    }\n",
       "</style>\n",
       "<table border=\"1\" class=\"dataframe\">\n",
       "  <thead>\n",
       "    <tr style=\"text-align: right;\">\n",
       "      <th></th>\n",
       "      <th>cell_roi_id</th>\n",
       "      <th>dff</th>\n",
       "    </tr>\n",
       "    <tr>\n",
       "      <th>cell_specimen_id</th>\n",
       "      <th></th>\n",
       "      <th></th>\n",
       "    </tr>\n",
       "  </thead>\n",
       "  <tbody>\n",
       "    <tr>\n",
       "      <th>1086601848</th>\n",
       "      <td>1080867796</td>\n",
       "      <td>[0.28201794368039823, 0.1903022438869266, 0.21...</td>\n",
       "    </tr>\n",
       "    <tr>\n",
       "      <th>1086602069</th>\n",
       "      <td>1080867804</td>\n",
       "      <td>[0.13884965897445056, 0.3963619942985226, 0.24...</td>\n",
       "    </tr>\n",
       "    <tr>\n",
       "      <th>1086635982</th>\n",
       "      <td>1080867837</td>\n",
       "      <td>[0.5498754867600153, 0.26557468920820837, 0.43...</td>\n",
       "    </tr>\n",
       "    <tr>\n",
       "      <th>1086578646</th>\n",
       "      <td>1080867844</td>\n",
       "      <td>[0.20886659311964556, 0.08442318243036104, 0.2...</td>\n",
       "    </tr>\n",
       "    <tr>\n",
       "      <th>1086598188</th>\n",
       "      <td>1080867847</td>\n",
       "      <td>[0.28967144653172083, 0.49236151316004095, 0.4...</td>\n",
       "    </tr>\n",
       "  </tbody>\n",
       "</table>\n",
       "</div>"
      ],
      "text/plain": [
       "                  cell_roi_id  \\\n",
       "cell_specimen_id                \n",
       "1086601848         1080867796   \n",
       "1086602069         1080867804   \n",
       "1086635982         1080867837   \n",
       "1086578646         1080867844   \n",
       "1086598188         1080867847   \n",
       "\n",
       "                                                                dff  \n",
       "cell_specimen_id                                                     \n",
       "1086601848        [0.28201794368039823, 0.1903022438869266, 0.21...  \n",
       "1086602069        [0.13884965897445056, 0.3963619942985226, 0.24...  \n",
       "1086635982        [0.5498754867600153, 0.26557468920820837, 0.43...  \n",
       "1086578646        [0.20886659311964556, 0.08442318243036104, 0.2...  \n",
       "1086598188        [0.28967144653172083, 0.49236151316004095, 0.4...  "
      ]
     },
     "execution_count": 23,
     "metadata": {},
     "output_type": "execute_result"
    }
   ],
   "source": [
    "active_experiment.dff_traces.head()"
   ]
  },
  {
   "cell_type": "markdown",
   "id": "085b71f4-581d-47ed-90b1-d0e1a72e1135",
   "metadata": {},
   "source": [
    "Since `dff` is stored as a list, we need to get timestamps for each of those numbers."
   ]
  },
  {
   "cell_type": "markdown",
   "id": "4236ac34-800a-4b5a-aeca-fef46f231e67",
   "metadata": {
    "tags": [],
    "toc-hr-collapsed": true
   },
   "source": [
    "#### `ophys_timestamps`"
   ]
  },
  {
   "cell_type": "markdown",
   "id": "f93da654-2683-4854-8c3e-81b130164344",
   "metadata": {},
   "source": [
    "`ophys_timestamps` contains the timestamps of every record."
   ]
  },
  {
   "cell_type": "code",
   "execution_count": 24,
   "id": "68300ce5-932a-459b-97f3-27b9bac88944",
   "metadata": {},
   "outputs": [
    {
     "data": {
      "text/plain": [
       "array([2.55695000e+00, 2.58926000e+00, 2.62157000e+00, ...,\n",
       "       4.53777515e+03, 4.53780747e+03, 4.53783979e+03])"
      ]
     },
     "execution_count": 24,
     "metadata": {},
     "output_type": "execute_result"
    }
   ],
   "source": [
    "active_experiment.ophys_timestamps"
   ]
  },
  {
   "cell_type": "markdown",
   "id": "74388e79-3d2c-46a7-8846-fcafd4980846",
   "metadata": {},
   "source": [
    "Let's do a sanity check by checking the length of both lists."
   ]
  },
  {
   "cell_type": "code",
   "execution_count": 25,
   "id": "d8852aef-b3d2-4079-b8e8-6d969685dd77",
   "metadata": {},
   "outputs": [
    {
     "name": "stdout",
     "output_type": "stream",
     "text": [
      "dff has length 140324\n",
      "timestamp has length 140324\n"
     ]
    }
   ],
   "source": [
    "print(f\"dff has length {len(active_experiment.dff_traces.iloc[0]['dff'])}\")\n",
    "print(f\"timestamp has length {len(active_experiment.ophys_timestamps)}\")"
   ]
  },
  {
   "cell_type": "markdown",
   "id": "81186bf4-853d-4e21-9382-d50085850787",
   "metadata": {
    "tags": [],
    "toc-hr-collapsed": true
   },
   "source": [
    "#### `stimulus_presentations`"
   ]
  },
  {
   "cell_type": "markdown",
   "id": "d0d9e01c-82df-4d5d-bb19-ab9ed44b1efa",
   "metadata": {},
   "source": [
    "We also need timestamps of when stimulus was presented. This information is contained in `stimulus_presentations`."
   ]
  },
  {
   "cell_type": "code",
   "execution_count": 26,
   "id": "cf6f5706-c634-4eb4-a2c7-4d49fb6269a8",
   "metadata": {},
   "outputs": [
    {
     "data": {
      "text/html": [
       "<div>\n",
       "<style scoped>\n",
       "    .dataframe tbody tr th:only-of-type {\n",
       "        vertical-align: middle;\n",
       "    }\n",
       "\n",
       "    .dataframe tbody tr th {\n",
       "        vertical-align: top;\n",
       "    }\n",
       "\n",
       "    .dataframe thead th {\n",
       "        text-align: right;\n",
       "    }\n",
       "</style>\n",
       "<table border=\"1\" class=\"dataframe\">\n",
       "  <thead>\n",
       "    <tr style=\"text-align: right;\">\n",
       "      <th></th>\n",
       "      <th>duration</th>\n",
       "      <th>end_frame</th>\n",
       "      <th>image_index</th>\n",
       "      <th>image_name</th>\n",
       "      <th>image_set</th>\n",
       "      <th>index</th>\n",
       "      <th>omitted</th>\n",
       "      <th>start_frame</th>\n",
       "      <th>start_time</th>\n",
       "      <th>stop_time</th>\n",
       "      <th>is_change</th>\n",
       "    </tr>\n",
       "    <tr>\n",
       "      <th>stimulus_presentations_id</th>\n",
       "      <th></th>\n",
       "      <th></th>\n",
       "      <th></th>\n",
       "      <th></th>\n",
       "      <th></th>\n",
       "      <th></th>\n",
       "      <th></th>\n",
       "      <th></th>\n",
       "      <th></th>\n",
       "      <th></th>\n",
       "      <th></th>\n",
       "    </tr>\n",
       "  </thead>\n",
       "  <tbody>\n",
       "    <tr>\n",
       "      <th>0</th>\n",
       "      <td>0.25020</td>\n",
       "      <td>18002.0</td>\n",
       "      <td>0</td>\n",
       "      <td>im065</td>\n",
       "      <td>Natural_Images_Lum_Matched_set_training_2017.0...</td>\n",
       "      <td>0</td>\n",
       "      <td>False</td>\n",
       "      <td>17987</td>\n",
       "      <td>307.53005</td>\n",
       "      <td>307.78025</td>\n",
       "      <td>False</td>\n",
       "    </tr>\n",
       "    <tr>\n",
       "      <th>1</th>\n",
       "      <td>0.25022</td>\n",
       "      <td>18047.0</td>\n",
       "      <td>0</td>\n",
       "      <td>im065</td>\n",
       "      <td>Natural_Images_Lum_Matched_set_training_2017.0...</td>\n",
       "      <td>1</td>\n",
       "      <td>False</td>\n",
       "      <td>18032</td>\n",
       "      <td>308.28098</td>\n",
       "      <td>308.53120</td>\n",
       "      <td>False</td>\n",
       "    </tr>\n",
       "    <tr>\n",
       "      <th>2</th>\n",
       "      <td>0.24985</td>\n",
       "      <td>18092.0</td>\n",
       "      <td>0</td>\n",
       "      <td>im065</td>\n",
       "      <td>Natural_Images_Lum_Matched_set_training_2017.0...</td>\n",
       "      <td>2</td>\n",
       "      <td>False</td>\n",
       "      <td>18077</td>\n",
       "      <td>309.03163</td>\n",
       "      <td>309.28148</td>\n",
       "      <td>False</td>\n",
       "    </tr>\n",
       "    <tr>\n",
       "      <th>3</th>\n",
       "      <td>0.25021</td>\n",
       "      <td>18137.0</td>\n",
       "      <td>0</td>\n",
       "      <td>im065</td>\n",
       "      <td>Natural_Images_Lum_Matched_set_training_2017.0...</td>\n",
       "      <td>3</td>\n",
       "      <td>False</td>\n",
       "      <td>18122</td>\n",
       "      <td>309.78188</td>\n",
       "      <td>310.03209</td>\n",
       "      <td>False</td>\n",
       "    </tr>\n",
       "    <tr>\n",
       "      <th>4</th>\n",
       "      <td>0.25020</td>\n",
       "      <td>18182.0</td>\n",
       "      <td>0</td>\n",
       "      <td>im065</td>\n",
       "      <td>Natural_Images_Lum_Matched_set_training_2017.0...</td>\n",
       "      <td>4</td>\n",
       "      <td>False</td>\n",
       "      <td>18167</td>\n",
       "      <td>310.53247</td>\n",
       "      <td>310.78267</td>\n",
       "      <td>False</td>\n",
       "    </tr>\n",
       "  </tbody>\n",
       "</table>\n",
       "</div>"
      ],
      "text/plain": [
       "                           duration  end_frame  image_index image_name  \\\n",
       "stimulus_presentations_id                                                \n",
       "0                           0.25020    18002.0            0      im065   \n",
       "1                           0.25022    18047.0            0      im065   \n",
       "2                           0.24985    18092.0            0      im065   \n",
       "3                           0.25021    18137.0            0      im065   \n",
       "4                           0.25020    18182.0            0      im065   \n",
       "\n",
       "                                                                   image_set  \\\n",
       "stimulus_presentations_id                                                      \n",
       "0                          Natural_Images_Lum_Matched_set_training_2017.0...   \n",
       "1                          Natural_Images_Lum_Matched_set_training_2017.0...   \n",
       "2                          Natural_Images_Lum_Matched_set_training_2017.0...   \n",
       "3                          Natural_Images_Lum_Matched_set_training_2017.0...   \n",
       "4                          Natural_Images_Lum_Matched_set_training_2017.0...   \n",
       "\n",
       "                           index  omitted  start_frame  start_time  stop_time  \\\n",
       "stimulus_presentations_id                                                       \n",
       "0                              0    False        17987   307.53005  307.78025   \n",
       "1                              1    False        18032   308.28098  308.53120   \n",
       "2                              2    False        18077   309.03163  309.28148   \n",
       "3                              3    False        18122   309.78188  310.03209   \n",
       "4                              4    False        18167   310.53247  310.78267   \n",
       "\n",
       "                           is_change  \n",
       "stimulus_presentations_id             \n",
       "0                              False  \n",
       "1                              False  \n",
       "2                              False  \n",
       "3                              False  \n",
       "4                              False  "
      ]
     },
     "execution_count": 26,
     "metadata": {},
     "output_type": "execute_result"
    }
   ],
   "source": [
    "active_experiment.stimulus_presentations.head()"
   ]
  },
  {
   "cell_type": "markdown",
   "id": "8aeff565-9c8b-49b8-bb9e-858f15a45bc8",
   "metadata": {},
   "source": [
    "During imaging sessions, stimulus presentations (other than the change and pre-change images) are omitted with a 5% probability, resulting in some inter stimlus intervals appearing as an extended gray screen period. [[AllenNB2]](#References)"
   ]
  },
  {
   "cell_type": "markdown",
   "id": "43cf5c1b-63db-44a7-9a15-b575462769ee",
   "metadata": {},
   "source": [
    "<img style=\"width: 50%\" src=\"images/omissions.png\">"
   ]
  },
  {
   "cell_type": "code",
   "execution_count": 27,
   "id": "58961070-f449-4133-9e38-d30c1f7a3939",
   "metadata": {},
   "outputs": [
    {
     "data": {
      "text/html": [
       "<div>\n",
       "<style scoped>\n",
       "    .dataframe tbody tr th:only-of-type {\n",
       "        vertical-align: middle;\n",
       "    }\n",
       "\n",
       "    .dataframe tbody tr th {\n",
       "        vertical-align: top;\n",
       "    }\n",
       "\n",
       "    .dataframe thead th {\n",
       "        text-align: right;\n",
       "    }\n",
       "</style>\n",
       "<table border=\"1\" class=\"dataframe\">\n",
       "  <thead>\n",
       "    <tr style=\"text-align: right;\">\n",
       "      <th></th>\n",
       "      <th>duration</th>\n",
       "      <th>end_frame</th>\n",
       "      <th>image_index</th>\n",
       "      <th>image_name</th>\n",
       "      <th>image_set</th>\n",
       "      <th>index</th>\n",
       "      <th>omitted</th>\n",
       "      <th>start_frame</th>\n",
       "      <th>start_time</th>\n",
       "      <th>stop_time</th>\n",
       "      <th>is_change</th>\n",
       "    </tr>\n",
       "    <tr>\n",
       "      <th>stimulus_presentations_id</th>\n",
       "      <th></th>\n",
       "      <th></th>\n",
       "      <th></th>\n",
       "      <th></th>\n",
       "      <th></th>\n",
       "      <th></th>\n",
       "      <th></th>\n",
       "      <th></th>\n",
       "      <th></th>\n",
       "      <th></th>\n",
       "      <th></th>\n",
       "    </tr>\n",
       "  </thead>\n",
       "  <tbody>\n",
       "    <tr>\n",
       "      <th>22</th>\n",
       "      <td>0.25</td>\n",
       "      <td>NaN</td>\n",
       "      <td>8</td>\n",
       "      <td>omitted</td>\n",
       "      <td>omitted</td>\n",
       "      <td>0</td>\n",
       "      <td>True</td>\n",
       "      <td>18976</td>\n",
       "      <td>324.02684</td>\n",
       "      <td>324.27684</td>\n",
       "      <td>False</td>\n",
       "    </tr>\n",
       "    <tr>\n",
       "      <th>119</th>\n",
       "      <td>0.25</td>\n",
       "      <td>NaN</td>\n",
       "      <td>8</td>\n",
       "      <td>omitted</td>\n",
       "      <td>omitted</td>\n",
       "      <td>1</td>\n",
       "      <td>True</td>\n",
       "      <td>23341</td>\n",
       "      <td>396.83648</td>\n",
       "      <td>397.08648</td>\n",
       "      <td>False</td>\n",
       "    </tr>\n",
       "    <tr>\n",
       "      <th>121</th>\n",
       "      <td>0.25</td>\n",
       "      <td>NaN</td>\n",
       "      <td>8</td>\n",
       "      <td>omitted</td>\n",
       "      <td>omitted</td>\n",
       "      <td>2</td>\n",
       "      <td>True</td>\n",
       "      <td>23431</td>\n",
       "      <td>398.33747</td>\n",
       "      <td>398.58747</td>\n",
       "      <td>False</td>\n",
       "    </tr>\n",
       "    <tr>\n",
       "      <th>123</th>\n",
       "      <td>0.25</td>\n",
       "      <td>NaN</td>\n",
       "      <td>8</td>\n",
       "      <td>omitted</td>\n",
       "      <td>omitted</td>\n",
       "      <td>3</td>\n",
       "      <td>True</td>\n",
       "      <td>23521</td>\n",
       "      <td>399.83869</td>\n",
       "      <td>400.08869</td>\n",
       "      <td>False</td>\n",
       "    </tr>\n",
       "    <tr>\n",
       "      <th>146</th>\n",
       "      <td>0.25</td>\n",
       "      <td>NaN</td>\n",
       "      <td>8</td>\n",
       "      <td>omitted</td>\n",
       "      <td>omitted</td>\n",
       "      <td>4</td>\n",
       "      <td>True</td>\n",
       "      <td>24556</td>\n",
       "      <td>417.10313</td>\n",
       "      <td>417.35313</td>\n",
       "      <td>False</td>\n",
       "    </tr>\n",
       "  </tbody>\n",
       "</table>\n",
       "</div>"
      ],
      "text/plain": [
       "                           duration  end_frame  image_index image_name  \\\n",
       "stimulus_presentations_id                                                \n",
       "22                             0.25        NaN            8    omitted   \n",
       "119                            0.25        NaN            8    omitted   \n",
       "121                            0.25        NaN            8    omitted   \n",
       "123                            0.25        NaN            8    omitted   \n",
       "146                            0.25        NaN            8    omitted   \n",
       "\n",
       "                          image_set  index  omitted  start_frame  start_time  \\\n",
       "stimulus_presentations_id                                                      \n",
       "22                          omitted      0     True        18976   324.02684   \n",
       "119                         omitted      1     True        23341   396.83648   \n",
       "121                         omitted      2     True        23431   398.33747   \n",
       "123                         omitted      3     True        23521   399.83869   \n",
       "146                         omitted      4     True        24556   417.10313   \n",
       "\n",
       "                           stop_time  is_change  \n",
       "stimulus_presentations_id                        \n",
       "22                         324.27684      False  \n",
       "119                        397.08648      False  \n",
       "121                        398.58747      False  \n",
       "123                        400.08869      False  \n",
       "146                        417.35313      False  "
      ]
     },
     "execution_count": 27,
     "metadata": {},
     "output_type": "execute_result"
    }
   ],
   "source": [
    "active_experiment.stimulus_presentations.query(\"omitted\").head()"
   ]
  },
  {
   "cell_type": "markdown",
   "id": "a2573f6c-5847-4a54-bd6f-f85b634e65a6",
   "metadata": {
    "tags": []
   },
   "source": [
    "### Visualization"
   ]
  },
  {
   "cell_type": "markdown",
   "id": "0fe61c82-ac22-430d-bc40-eeb8e1fc0566",
   "metadata": {
    "tags": []
   },
   "source": [
    "#### Plot dF/F Trace"
   ]
  },
  {
   "cell_type": "markdown",
   "id": "5989e4a8-768d-458b-ae7b-be2415761625",
   "metadata": {},
   "source": [
    "Let's choose some random `cell_specimen_id` (1086601848) and plots its dff trace."
   ]
  },
  {
   "cell_type": "code",
   "execution_count": 28,
   "id": "56a21b9a-f56b-410f-a208-0a23fd63df7e",
   "metadata": {},
   "outputs": [
    {
     "data": {
      "image/png": "[encoded data removed]",
      "text/plain": [
       "<Figure size 1080x288 with 1 Axes>"
      ]
     },
     "metadata": {
      "needs_background": "light"
     },
     "output_type": "display_data"
    }
   ],
   "source": [
    "fig, ax = plt.subplots(figsize=(15, 4))\n",
    "\n",
    "ax.plot(\n",
    "    active_experiment.ophys_timestamps,\n",
    "    active_experiment.dff_traces.loc[1086601848][\"dff\"],\n",
    ")\n",
    "\n",
    "ax.set_xlim(400, 450)\n",
    "\n",
    "fig.show()"
   ]
  },
  {
   "cell_type": "markdown",
   "id": "4627fb05-e5a9-4498-a5c1-5bd392a1d444",
   "metadata": {
    "tags": []
   },
   "source": [
    "#### Plot Stimulus"
   ]
  },
  {
   "cell_type": "markdown",
   "id": "a94bffab-c2fc-4ed2-81af-de270ed690ed",
   "metadata": {},
   "source": [
    "Let's also plot stimulus for a short interval.\n",
    "\n",
    "*Part of code from [[AllenNB3]](#References)*"
   ]
  },
  {
   "cell_type": "code",
   "execution_count": 29,
   "id": "d995bafa-063a-483e-ae9f-196c0e7fda64",
   "metadata": {},
   "outputs": [],
   "source": [
    "# Create a color map for each image\n",
    "unique_stimuli = [stimulus for stimulus in active_experiment.stimulus_presentations['image_name'].unique()]\n",
    "colormap = {image_name: sns.color_palette()[image_number] for image_number, image_name in enumerate(np.sort(unique_stimuli))}\n",
    "# Keep omitted image as white\n",
    "colormap['omitted'] = (1,1,1)"
   ]
  },
  {
   "cell_type": "code",
   "execution_count": 30,
   "id": "0a072aed-875f-4216-90d6-90b8be911937",
   "metadata": {},
   "outputs": [],
   "source": [
    "stimulus_presentations_sample = active_experiment.stimulus_presentations.query('stop_time >= 400 and start_time <= 450')"
   ]
  },
  {
   "cell_type": "code",
   "execution_count": 31,
   "id": "aff72e0e-de28-4268-8b7d-00821cce844d",
   "metadata": {},
   "outputs": [
    {
     "data": {
      "image/png": "[encoded data removed]",
      "text/plain": [
       "<Figure size 1080x288 with 1 Axes>"
      ]
     },
     "metadata": {
      "needs_background": "light"
     },
     "output_type": "display_data"
    }
   ],
   "source": [
    "fig, ax = plt.subplots(figsize=(15, 4))\n",
    "\n",
    "for idx, stimulus in stimulus_presentations_sample.iterrows():\n",
    "    ax.axvspan(stimulus['start_time'], stimulus['stop_time'], color=colormap[stimulus['image_name']], alpha=0.25)\n",
    "\n",
    "ax.set_xlim(400, 450)\n",
    "    \n",
    "fig.show()"
   ]
  },
  {
   "cell_type": "markdown",
   "id": "3a3036fd-fdc7-4d5f-a221-780828a8f5cb",
   "metadata": {
    "tags": []
   },
   "source": [
    "#### Both"
   ]
  },
  {
   "cell_type": "code",
   "execution_count": 32,
   "id": "a1cd66de-3adf-4cae-b493-7d594a9897f1",
   "metadata": {},
   "outputs": [
    {
     "data": {
      "image/png": "[encoded data removed]",
      "text/plain": [
       "<Figure size 1080x288 with 1 Axes>"
      ]
     },
     "metadata": {
      "needs_background": "light"
     },
     "output_type": "display_data"
    }
   ],
   "source": [
    "fig, ax = plt.subplots(figsize=(15, 4))\n",
    "\n",
    "ax.plot(\n",
    "    active_experiment.ophys_timestamps,\n",
    "    active_experiment.dff_traces.loc[1086601848][\"dff\"],\n",
    ")\n",
    "\n",
    "for idx, stimulus in stimulus_presentations_sample.iterrows():\n",
    "    ax.axvspan(stimulus['start_time'], stimulus['stop_time'], color=colormap[stimulus['image_name']], alpha=0.25)\n",
    "\n",
    "ax.set_xlim(400, 450)\n",
    "ax.set_ylim(-0.5, 0.5)\n",
    "ax.legend([\"dff trace\"])\n",
    "\n",
    "fig.show()"
   ]
  },
  {
   "cell_type": "markdown",
   "id": "adc184d6-ac4a-459d-9c84-6538d5d6664c",
   "metadata": {
    "tags": [],
    "toc-hr-collapsed": true
   },
   "source": [
    "## Cell Selection"
   ]
  },
  {
   "cell_type": "markdown",
   "id": "cb953467-6ebc-4814-af35-094e4f319afc",
   "metadata": {},
   "source": [
    "We would like to limit ourselves to looking at cells that respond to a presentation of a visual stimuli.\n",
    "\n",
    "To understand which cells respond, we check the dF/F traces of cells 250ms before stimulus onset and 250ms after stimulus onset. Then, we choose the cells with the biggest difference in mean dF/F."
   ]
  },
  {
   "cell_type": "code",
   "execution_count": 33,
   "id": "fac3aadb-2a9c-4c2c-b0af-99acce3916fa",
   "metadata": {},
   "outputs": [],
   "source": [
    "TIME_BEFORE_STIMULUS = 0.25\n",
    "TIME_AFTER_STIMULUS = 0.25"
   ]
  },
  {
   "cell_type": "markdown",
   "id": "a1a2cd94-19f7-4a41-911d-9c8764c46408",
   "metadata": {
    "tags": [],
    "toc-hr-collapsed": true
   },
   "source": [
    "### Helper Functions\n",
    "\n",
    "These are some helper functions for getting the right timestamps and dF/F traces."
   ]
  },
  {
   "cell_type": "code",
   "execution_count": 34,
   "id": "4671cd17-60ce-4283-ad79-f32c5b748e1c",
   "metadata": {},
   "outputs": [],
   "source": [
    "def get_cell_specimen_ids(experiment):\n",
    "    \"\"\"\n",
    "    Get all the cell specimen ids recorded in the experiment.\n",
    "    \"\"\"\n",
    "    return experiment.dff_traces.index"
   ]
  },
  {
   "cell_type": "code",
   "execution_count": 35,
   "id": "e9b7818f-3826-4dc7-90da-c6cd561da780",
   "metadata": {},
   "outputs": [],
   "source": [
    "def get_indices_in_interval(experiment, start, end):\n",
    "    \"\"\"\n",
    "    Get all indices of timestamps where dF/F trace was recorded during a specified interval.\n",
    "    \"\"\"\n",
    "    indices = np.argwhere((experiment.ophys_timestamps >= start) & (experiment.ophys_timestamps <= end))[:, 0]\n",
    "    return indices"
   ]
  },
  {
   "cell_type": "code",
   "execution_count": 36,
   "id": "5674fdd0-d725-47f1-ac19-8ba8d1ffbeb1",
   "metadata": {},
   "outputs": [],
   "source": [
    "def get_timestamps_in_interval(experiment, start, end):\n",
    "    \"\"\"\n",
    "    Get all timestamps when dF/F trace was recorded during a specified interval.\n",
    "    \"\"\"\n",
    "    indices = get_indices_in_interval(experiment, start, end)\n",
    "    return experiment.ophys_timestamps[indices]"
   ]
  },
  {
   "cell_type": "code",
   "execution_count": 37,
   "id": "823a8769-bde2-4b75-9c32-dfd1b6941013",
   "metadata": {},
   "outputs": [],
   "source": [
    "def get_dff_in_interval(experiment, cell_specimen_id, start, end):\n",
    "    \"\"\"\n",
    "    Get dF/F trace for one cell during a specified interval.\n",
    "    \"\"\"\n",
    "    indices = get_indices_in_interval(experiment, start, end)\n",
    "    return experiment.dff_traces.loc[cell_specimen_id][\"dff\"][indices[0]:indices[-1]+1]"
   ]
  },
  {
   "cell_type": "markdown",
   "id": "effe102a-b6c0-4668-8e74-0ad7c7b7e727",
   "metadata": {
    "tags": [],
    "toc-hr-collapsed": true
   },
   "source": [
    "### Selection with Single Stimulus"
   ]
  },
  {
   "cell_type": "markdown",
   "id": "3d4a98f9-d11a-4b6c-bc3a-9cc3486bc09b",
   "metadata": {},
   "source": [
    "Let's get all the cell specimen IDs."
   ]
  },
  {
   "cell_type": "code",
   "execution_count": 38,
   "id": "44ceeb43-a96e-442e-89a2-bc2815705135",
   "metadata": {},
   "outputs": [],
   "source": [
    "cell_specimen_ids = get_cell_specimen_ids(active_experiment)"
   ]
  },
  {
   "cell_type": "markdown",
   "id": "54d62c0b-a31f-438b-8e36-dcd59c2be864",
   "metadata": {},
   "source": [
    "We can first choose one stimulus and find the cell with the biggest difference. Let's select the first stimulus."
   ]
  },
  {
   "cell_type": "code",
   "execution_count": 39,
   "id": "b8447dc1-8ff5-4f81-9144-1754b164051e",
   "metadata": {},
   "outputs": [],
   "source": [
    "stimulus_start_time = active_experiment.stimulus_presentations[\"start_time\"][0]"
   ]
  },
  {
   "cell_type": "markdown",
   "id": "266f805f-476c-45aa-b276-da1751e42369",
   "metadata": {},
   "source": [
    "Then, we retrieve the dF/F traces before and after the stimulus with `get_dff_in_interval()` helper function. We then take the mean of both and save the difference."
   ]
  },
  {
   "cell_type": "code",
   "execution_count": 40,
   "id": "c0791f2e-f72d-4caf-9a42-2f1841d776a7",
   "metadata": {},
   "outputs": [
    {
     "name": "stderr",
     "output_type": "stream",
     "text": [
      "100%|██████████| 415/415 [00:00<00:00, 1201.96it/s]\n"
     ]
    }
   ],
   "source": [
    "mean_dff_differences = []\n",
    "\n",
    "for cell_specimen_id in tqdm(cell_specimen_ids):\n",
    "    before_stimulus_dff = get_dff_in_interval(\n",
    "        active_experiment,\n",
    "        cell_specimen_id,\n",
    "        start=stimulus_start_time - TIME_BEFORE_STIMULUS,\n",
    "        end=stimulus_start_time,\n",
    "    )\n",
    "    after_stimulus_dff = get_dff_in_interval(\n",
    "        active_experiment,\n",
    "        cell_specimen_id,\n",
    "        start=stimulus_start_time,\n",
    "        end=stimulus_start_time + TIME_BEFORE_STIMULUS,\n",
    "    )\n",
    "    mean_dff_difference = np.abs(np.mean(after_stimulus_dff) - np.mean(before_stimulus_dff))\n",
    "    mean_dff_differences.append(mean_dff_difference)\n",
    "\n",
    "mean_dff_differences = np.array(mean_dff_differences)"
   ]
  },
  {
   "cell_type": "markdown",
   "id": "dd750708-20d9-401c-8c14-42aa8a350096",
   "metadata": {},
   "source": [
    "Let's plot a histogram and a box plot to see what the distribution of mean dF/F differences look like."
   ]
  },
  {
   "cell_type": "code",
   "execution_count": 41,
   "id": "f60e754e-db04-4636-aca1-0c0b08384927",
   "metadata": {},
   "outputs": [
    {
     "data": {
      "image/png": "[encoded data removed]",
      "text/plain": [
       "<Figure size 864x288 with 2 Axes>"
      ]
     },
     "metadata": {
      "needs_background": "light"
     },
     "output_type": "display_data"
    }
   ],
   "source": [
    "fig, axs = plt.subplots(1, 2, figsize=(12, 4))\n",
    "\n",
    "axs[0].hist(mean_dff_differences)\n",
    "axs[1].boxplot(mean_dff_differences)\n",
    "\n",
    "fig.show()"
   ]
  },
  {
   "cell_type": "markdown",
   "id": "481633a0-d980-4500-9d30-c0503589b58d",
   "metadata": {},
   "source": [
    "Looks like there are a few cells that are outstanding! Let's select the top 4 cells and see what their mean differences look like."
   ]
  },
  {
   "cell_type": "code",
   "execution_count": 42,
   "id": "837c1d9f-c46a-4ae9-88da-6586c5871866",
   "metadata": {},
   "outputs": [
    {
     "name": "stdout",
     "output_type": "stream",
     "text": [
      "Int64Index([1086604838, 1086578313, 1086623819, 1086637612], dtype='int64', name='cell_specimen_id')\n",
      "[0.43820469 0.28274228 0.13674166 0.11737482]\n"
     ]
    }
   ],
   "source": [
    "TOP_K = 4\n",
    "top_k_indices = np.argsort(mean_dff_differences)[::-1][:TOP_K]\n",
    "selected_cell_specimen_ids = cell_specimen_ids[top_k_indices]\n",
    "selected_mean_dff_differences = mean_dff_differences[top_k_indices]\n",
    "print(selected_cell_specimen_ids)\n",
    "print(selected_mean_dff_differences)"
   ]
  },
  {
   "cell_type": "markdown",
   "id": "c390cf16-2593-4cd8-9914-33c3214bcf9b",
   "metadata": {},
   "source": [
    "We can also plot their dF/F traces before and after stimulus."
   ]
  },
  {
   "cell_type": "code",
   "execution_count": 43,
   "id": "5221ff32-9c16-4cae-9e05-514fbbc71e5b",
   "metadata": {},
   "outputs": [
    {
     "data": {
      "image/png": "[encoded data removed]",
      "text/plain": [
       "<Figure size 864x288 with 1 Axes>"
      ]
     },
     "metadata": {
      "needs_background": "light"
     },
     "output_type": "display_data"
    }
   ],
   "source": [
    "fig, ax = plt.subplots(1, 1, figsize = (12, 4))\n",
    "\n",
    "for cell_specimen_id, mean_dff_difference in zip(selected_cell_specimen_ids, selected_mean_dff_differences):\n",
    "    ax.plot(\n",
    "        get_timestamps_in_interval(\n",
    "            active_experiment,\n",
    "            stimulus_start_time - TIME_BEFORE_STIMULUS,\n",
    "            stimulus_start_time + TIME_AFTER_STIMULUS,\n",
    "        ),\n",
    "        get_dff_in_interval(\n",
    "            active_experiment,\n",
    "            cell_specimen_id,\n",
    "            stimulus_start_time - TIME_BEFORE_STIMULUS,\n",
    "            stimulus_start_time + TIME_AFTER_STIMULUS,\n",
    "        ),\n",
    "        label=f\"Cell {cell_specimen_id} (diff={mean_dff_difference})\"\n",
    "    )\n",
    "ax.axvline(x=stimulus_start_time, color=\"k\", linestyle=\"-\")\n",
    "\n",
    "ax.set_title(f\"dF/F trace of cells\")\n",
    "ax.set_ylabel(\"dF/F\")\n",
    "ax.set_xlabel(\"time in session (seconds)\")\n",
    "ax.legend(loc='center left', bbox_to_anchor=(1, 0.5), fancybox=True, shadow=True, ncol=1)\n",
    "fig.show()"
   ]
  },
  {
   "cell_type": "markdown",
   "id": "ecc64441-1710-47b1-b3d7-2de85de8763e",
   "metadata": {
    "tags": [],
    "toc-hr-collapsed": true
   },
   "source": [
    "### Selection with All Stimulus"
   ]
  },
  {
   "cell_type": "markdown",
   "id": "e84c5e69-42c8-485f-9ebb-fd79c2864eed",
   "metadata": {
    "tags": []
   },
   "source": [
    "#### Compute dF/F Differences"
   ]
  },
  {
   "cell_type": "markdown",
   "id": "440016e2-9e48-4eb5-a7bf-ffc92d2e7cae",
   "metadata": {},
   "source": [
    "TODO: Check if we also exclude changes"
   ]
  },
  {
   "cell_type": "markdown",
   "id": "d8824cd5-5473-4ee6-8e67-1933fd4e9681",
   "metadata": {},
   "source": [
    "We now use all the stimulus (excluding the omitted ones) to select the cells."
   ]
  },
  {
   "cell_type": "code",
   "execution_count": 44,
   "id": "2b266aba-a16c-488f-ab18-83ee32820235",
   "metadata": {},
   "outputs": [],
   "source": [
    "# active_stimulus_start_times = active_experiment.stimulus_presentations[\"start_time\"]\n",
    "active_stimulus_start_times = active_experiment.stimulus_presentations.query(\"not omitted\")[\"start_time\"]"
   ]
  },
  {
   "cell_type": "markdown",
   "id": "954bf5ad-d004-4440-a317-3c00ea28bc2d",
   "metadata": {},
   "source": [
    "Let's get the mean dF/F difference for each cell. Below is bunch of code that could be a bit difficult to understand. Check the **Explanation** section if you want to understand the code."
   ]
  },
  {
   "cell_type": "code",
   "execution_count": 45,
   "id": "42a0d994-9877-47a5-9811-4dca4f0a2ea3",
   "metadata": {},
   "outputs": [],
   "source": [
    "dff_matrix = np.vstack(active_experiment.dff_traces.dff.values)"
   ]
  },
  {
   "cell_type": "code",
   "execution_count": 46,
   "id": "12696021-3f89-49da-a58d-a48395458234",
   "metadata": {},
   "outputs": [
    {
     "name": "stderr",
     "output_type": "stream",
     "text": [
      "100%|██████████| 4640/4640 [00:02<00:00, 2094.17it/s]\n"
     ]
    }
   ],
   "source": [
    "mean_dff_differences_all_stimulus = []\n",
    "for stimulus_start_time in tqdm(active_stimulus_start_times):\n",
    "    before_indices = get_indices_in_interval(\n",
    "        active_experiment,\n",
    "        start=stimulus_start_time - TIME_BEFORE_STIMULUS,\n",
    "        end=stimulus_start_time,\n",
    "    )\n",
    "    after_indices = get_indices_in_interval(\n",
    "        active_experiment,\n",
    "        start=stimulus_start_time,\n",
    "        end=stimulus_start_time + TIME_AFTER_STIMULUS,\n",
    "    )\n",
    "    before_mean_dff = np.mean(dff_matrix[:, before_indices], axis=1)\n",
    "    after_mean_dff = np.mean(dff_matrix[:, after_indices], axis=1)\n",
    "    mean_dff_differences = np.abs(after_mean_dff - before_mean_dff)\n",
    "    mean_dff_differences_all_stimulus.append(mean_dff_differences)\n",
    "\n",
    "difference_matrix = np.stack(mean_dff_differences_all_stimulus, axis=1)"
   ]
  },
  {
   "cell_type": "code",
   "execution_count": 47,
   "id": "f7aba729-5b24-4d9a-a03d-6df921924e4a",
   "metadata": {},
   "outputs": [],
   "source": [
    "mean_difference_per_cell = np.mean(difference_matrix, axis=1)"
   ]
  },
  {
   "cell_type": "markdown",
   "id": "4cbad0f2-c171-41ad-85f8-0b6c53ed0222",
   "metadata": {},
   "source": [
    "`mean_difference_per_cell` contains the mean difference dF/F trace for each cell."
   ]
  },
  {
   "cell_type": "code",
   "execution_count": 48,
   "id": "058cb3d0-2a72-4d5f-a08c-b96437acaba2",
   "metadata": {},
   "outputs": [
    {
     "data": {
      "text/plain": [
       "(415,)"
      ]
     },
     "execution_count": 48,
     "metadata": {},
     "output_type": "execute_result"
    }
   ],
   "source": [
    "mean_difference_per_cell.shape"
   ]
  },
  {
   "cell_type": "markdown",
   "id": "c26feee0-6a97-4e18-b472-03c907603f5a",
   "metadata": {
    "tags": []
   },
   "source": [
    "#### Explanation"
   ]
  },
  {
   "cell_type": "markdown",
   "id": "19f817e8-b26e-4d70-8445-ccca7554db18",
   "metadata": {},
   "source": [
    "We will create a 2D matrix of dF/F traces to parallelize computation. Remember how `dff_traces` looked like:"
   ]
  },
  {
   "cell_type": "code",
   "execution_count": 49,
   "id": "6df30ed7-6597-4ede-9445-f5c37be00b83",
   "metadata": {},
   "outputs": [
    {
     "data": {
      "text/html": [
       "<div>\n",
       "<style scoped>\n",
       "    .dataframe tbody tr th:only-of-type {\n",
       "        vertical-align: middle;\n",
       "    }\n",
       "\n",
       "    .dataframe tbody tr th {\n",
       "        vertical-align: top;\n",
       "    }\n",
       "\n",
       "    .dataframe thead th {\n",
       "        text-align: right;\n",
       "    }\n",
       "</style>\n",
       "<table border=\"1\" class=\"dataframe\">\n",
       "  <thead>\n",
       "    <tr style=\"text-align: right;\">\n",
       "      <th></th>\n",
       "      <th>cell_roi_id</th>\n",
       "      <th>dff</th>\n",
       "    </tr>\n",
       "    <tr>\n",
       "      <th>cell_specimen_id</th>\n",
       "      <th></th>\n",
       "      <th></th>\n",
       "    </tr>\n",
       "  </thead>\n",
       "  <tbody>\n",
       "    <tr>\n",
       "      <th>1086601848</th>\n",
       "      <td>1080867796</td>\n",
       "      <td>[0.28201794368039823, 0.1903022438869266, 0.21...</td>\n",
       "    </tr>\n",
       "    <tr>\n",
       "      <th>1086602069</th>\n",
       "      <td>1080867804</td>\n",
       "      <td>[0.13884965897445056, 0.3963619942985226, 0.24...</td>\n",
       "    </tr>\n",
       "    <tr>\n",
       "      <th>1086635982</th>\n",
       "      <td>1080867837</td>\n",
       "      <td>[0.5498754867600153, 0.26557468920820837, 0.43...</td>\n",
       "    </tr>\n",
       "    <tr>\n",
       "      <th>1086578646</th>\n",
       "      <td>1080867844</td>\n",
       "      <td>[0.20886659311964556, 0.08442318243036104, 0.2...</td>\n",
       "    </tr>\n",
       "    <tr>\n",
       "      <th>1086598188</th>\n",
       "      <td>1080867847</td>\n",
       "      <td>[0.28967144653172083, 0.49236151316004095, 0.4...</td>\n",
       "    </tr>\n",
       "  </tbody>\n",
       "</table>\n",
       "</div>"
      ],
      "text/plain": [
       "                  cell_roi_id  \\\n",
       "cell_specimen_id                \n",
       "1086601848         1080867796   \n",
       "1086602069         1080867804   \n",
       "1086635982         1080867837   \n",
       "1086578646         1080867844   \n",
       "1086598188         1080867847   \n",
       "\n",
       "                                                                dff  \n",
       "cell_specimen_id                                                     \n",
       "1086601848        [0.28201794368039823, 0.1903022438869266, 0.21...  \n",
       "1086602069        [0.13884965897445056, 0.3963619942985226, 0.24...  \n",
       "1086635982        [0.5498754867600153, 0.26557468920820837, 0.43...  \n",
       "1086578646        [0.20886659311964556, 0.08442318243036104, 0.2...  \n",
       "1086598188        [0.28967144653172083, 0.49236151316004095, 0.4...  "
      ]
     },
     "execution_count": 49,
     "metadata": {},
     "output_type": "execute_result"
    }
   ],
   "source": [
    "active_experiment.dff_traces.head()"
   ]
  },
  {
   "cell_type": "markdown",
   "id": "e6726f8b-0fd8-424c-a2a7-807cd9d2098b",
   "metadata": {},
   "source": [
    "We just stack these dff vectors vertically."
   ]
  },
  {
   "cell_type": "markdown",
   "id": "d9e15db6-f671-4577-9df2-a1a98bdd358b",
   "metadata": {},
   "source": [
    "<img width=400 src=\"images/dff_matrix.png\">"
   ]
  },
  {
   "cell_type": "code",
   "execution_count": 50,
   "id": "d427c9e5-dd70-4050-81a3-3deb4b282339",
   "metadata": {},
   "outputs": [],
   "source": [
    "dff_matrix = np.vstack(active_experiment.dff_traces.dff.values)"
   ]
  },
  {
   "cell_type": "markdown",
   "id": "e8677b28-62a9-4a28-b881-11270023870e",
   "metadata": {},
   "source": [
    "The `dff_matrix` has 415 rows that correspond to the number of cells, and 140324 columns that correspond to the number of timestamps."
   ]
  },
  {
   "cell_type": "code",
   "execution_count": 51,
   "id": "0388484a-3a51-4616-b600-6e1750c94a41",
   "metadata": {},
   "outputs": [
    {
     "name": "stdout",
     "output_type": "stream",
     "text": [
      "Shape: (415, 140324)\n",
      "Number of cells: 415\n",
      "Number of timestamps: 140324\n"
     ]
    }
   ],
   "source": [
    "print(f\"Shape: {dff_matrix.shape}\")\n",
    "print(f\"Number of cells: {len(cell_specimen_ids)}\")\n",
    "print(f\"Number of timestamps: {len(active_experiment.ophys_timestamps)}\")"
   ]
  },
  {
   "cell_type": "markdown",
   "id": "278435e4-b7e4-4a3d-948d-c192f196b06e",
   "metadata": {},
   "source": [
    "Each column of this matrix will have all the cell's dF/F value for a particular time. Then, for each stimulus, we can select the columns that correspond to some interval."
   ]
  },
  {
   "cell_type": "code",
   "execution_count": 52,
   "id": "367cda02-b41e-4e42-9d02-22cab25b10eb",
   "metadata": {},
   "outputs": [],
   "source": [
    "before_indices = get_indices_in_interval(\n",
    "    active_experiment,\n",
    "    stimulus_start_time - TIME_BEFORE_STIMULUS,\n",
    "    stimulus_start_time,\n",
    ")"
   ]
  },
  {
   "cell_type": "code",
   "execution_count": 53,
   "id": "d3867e38-4eb5-4319-9dbb-e6897380c592",
   "metadata": {},
   "outputs": [
    {
     "data": {
      "text/plain": [
       "(415, 8)"
      ]
     },
     "execution_count": 53,
     "metadata": {},
     "output_type": "execute_result"
    }
   ],
   "source": [
    "dff_matrix[:, before_indices].shape"
   ]
  },
  {
   "cell_type": "markdown",
   "id": "049170ea-daaa-48a5-aa77-5a8efcf188de",
   "metadata": {},
   "source": [
    "Then we can take the row-wise mean to get the mean dF/F trace for this interval for all the cells for this interval."
   ]
  },
  {
   "cell_type": "code",
   "execution_count": 54,
   "id": "26d47b9a-57d2-4486-af31-f48587db32da",
   "metadata": {},
   "outputs": [],
   "source": [
    "before_mean_dff = np.mean(dff_matrix[:, before_indices], axis=1)"
   ]
  },
  {
   "cell_type": "code",
   "execution_count": 55,
   "id": "e35e3e82-5eff-4a25-bde5-f393c91de019",
   "metadata": {},
   "outputs": [
    {
     "data": {
      "text/plain": [
       "(415,)"
      ]
     },
     "execution_count": 55,
     "metadata": {},
     "output_type": "execute_result"
    }
   ],
   "source": [
    "before_mean_dff.shape"
   ]
  },
  {
   "cell_type": "markdown",
   "id": "3c591a11-43ef-46ab-943a-ad39993d7a9f",
   "metadata": {},
   "source": [
    "We can get two intervals corresponding to the time before and after a stimulus and find the difference."
   ]
  },
  {
   "cell_type": "code",
   "execution_count": 56,
   "id": "0ef1ca81-c138-4012-a5b3-280b17225b4f",
   "metadata": {},
   "outputs": [],
   "source": [
    "after_indices = get_indices_in_interval(\n",
    "    active_experiment,\n",
    "    stimulus_start_time,\n",
    "    stimulus_start_time + TIME_BEFORE_STIMULUS,\n",
    ")"
   ]
  },
  {
   "cell_type": "code",
   "execution_count": 57,
   "id": "9f0aa297-4fe4-4f72-a693-00a06ca5e086",
   "metadata": {},
   "outputs": [],
   "source": [
    "after_mean_dff = np.mean(dff_matrix[:, after_indices], axis=1)"
   ]
  },
  {
   "cell_type": "code",
   "execution_count": 58,
   "id": "c84caab6-a238-429e-9423-f034b8a4af30",
   "metadata": {},
   "outputs": [],
   "source": [
    "mean_dff_differences_2 = np.abs(after_mean_dff - before_mean_dff)"
   ]
  },
  {
   "cell_type": "code",
   "execution_count": 59,
   "id": "4de94bc6-a0ed-45f1-8ccf-825f59b32293",
   "metadata": {},
   "outputs": [
    {
     "data": {
      "text/plain": [
       "(415,)"
      ]
     },
     "execution_count": 59,
     "metadata": {},
     "output_type": "execute_result"
    }
   ],
   "source": [
    "mean_dff_differences_2.shape"
   ]
  },
  {
   "cell_type": "markdown",
   "id": "6b1ed275-aabf-49e5-a84a-55f3eafaf726",
   "metadata": {},
   "source": [
    "Let's do a sanity check with the `mean_dff_differences` that we computed in the previous section."
   ]
  },
  {
   "cell_type": "code",
   "execution_count": 60,
   "id": "e4bafda5-894e-44f1-a861-9531a9f8729f",
   "metadata": {},
   "outputs": [
    {
     "data": {
      "text/plain": [
       "True"
      ]
     },
     "execution_count": 60,
     "metadata": {},
     "output_type": "execute_result"
    }
   ],
   "source": [
    "np.allclose(mean_dff_differences, mean_dff_differences_2)"
   ]
  },
  {
   "cell_type": "markdown",
   "id": "c5773531-a8bc-4716-a290-b89742590d93",
   "metadata": {},
   "source": [
    "We can now create another matrix `difference_matrix`."
   ]
  },
  {
   "cell_type": "markdown",
   "id": "5f3beb25-b9dc-4915-a0b2-d04cf63bbe39",
   "metadata": {},
   "source": [
    "<img width=600 src=\"images/difference_matrix.png\">"
   ]
  },
  {
   "cell_type": "code",
   "execution_count": 61,
   "id": "2c27cadd-aa4b-4cf0-b27d-b93a63ca676d",
   "metadata": {},
   "outputs": [
    {
     "name": "stderr",
     "output_type": "stream",
     "text": [
      "100%|██████████| 4640/4640 [00:02<00:00, 2039.63it/s]\n"
     ]
    }
   ],
   "source": [
    "mean_dff_differences_all_stimulus = []\n",
    "for stimulus_start_time in tqdm(active_stimulus_start_times):\n",
    "    before_indices = get_indices_in_interval(\n",
    "        active_experiment,\n",
    "        start=stimulus_start_time - TIME_BEFORE_STIMULUS,\n",
    "        end=stimulus_start_time,\n",
    "    )\n",
    "    after_indices = get_indices_in_interval(\n",
    "        active_experiment,\n",
    "        start=stimulus_start_time,\n",
    "        end=stimulus_start_time + TIME_AFTER_STIMULUS,\n",
    "    )\n",
    "    before_mean_dff = np.mean(dff_matrix[:, before_indices], axis=1)\n",
    "    after_mean_dff = np.mean(dff_matrix[:, after_indices], axis=1)\n",
    "    mean_dff_differences = np.abs(after_mean_dff - before_mean_dff)\n",
    "    mean_dff_differences_all_stimulus.append(mean_dff_differences)\n",
    "\n",
    "difference_matrix = np.stack(mean_dff_differences_all_stimulus, axis=1)"
   ]
  },
  {
   "cell_type": "markdown",
   "id": "8fc0399c-45fd-43d8-ad9b-2500475a9e6b",
   "metadata": {},
   "source": [
    "The difference_matrix has 415 rows that correspond to the number of cells, and 4807 columns that correspond to the number of stimuli."
   ]
  },
  {
   "cell_type": "code",
   "execution_count": 62,
   "id": "2f06a896-ad51-4bd3-9c9a-692fc6345f66",
   "metadata": {},
   "outputs": [
    {
     "name": "stdout",
     "output_type": "stream",
     "text": [
      "Shape: (415, 4640)\n",
      "Number of cells: 415\n",
      "Number of stimuli: 4640\n"
     ]
    }
   ],
   "source": [
    "print(f\"Shape: {difference_matrix.shape}\")\n",
    "print(f\"Number of cells: {len(cell_specimen_ids)}\")\n",
    "print(f\"Number of stimuli: {len(active_stimulus_start_times)}\")"
   ]
  },
  {
   "cell_type": "markdown",
   "id": "612322d2-1939-48da-9efa-709e5164087d",
   "metadata": {},
   "source": [
    "We can take the row-wise mean to get the mean difference of all stimuli for each cell."
   ]
  },
  {
   "cell_type": "code",
   "execution_count": 63,
   "id": "df9dc62e-3d7f-4da5-acb8-5a94182ff8ca",
   "metadata": {},
   "outputs": [],
   "source": [
    "mean_difference_per_cell = np.mean(difference_matrix, axis=1)"
   ]
  },
  {
   "cell_type": "markdown",
   "id": "9dd0dc8a-275d-4383-a7e4-a28e8d5ed67a",
   "metadata": {
    "tags": []
   },
   "source": [
    "#### Select Cells"
   ]
  },
  {
   "cell_type": "markdown",
   "id": "98c745ff-5e27-4c40-ace3-5183999b5451",
   "metadata": {},
   "source": [
    "Let's plot a histogram and a box plot of `mean_difference_per_cell` to look at the distribution."
   ]
  },
  {
   "cell_type": "code",
   "execution_count": 64,
   "id": "df449330-330c-4345-8e1b-49d0f8eebfa5",
   "metadata": {},
   "outputs": [
    {
     "data": {
      "image/png": "[encoded data removed]",
      "text/plain": [
       "<Figure size 864x288 with 2 Axes>"
      ]
     },
     "metadata": {
      "needs_background": "light"
     },
     "output_type": "display_data"
    }
   ],
   "source": [
    "fig, axs = plt.subplots(1, 2, figsize=(12, 4))\n",
    "\n",
    "axs[0].hist(mean_difference_per_cell)\n",
    "axs[1].boxplot(mean_difference_per_cell)\n",
    "\n",
    "fig.show()"
   ]
  },
  {
   "cell_type": "markdown",
   "id": "9c2e12ca-7c1a-4050-9814-f43f50757c82",
   "metadata": {},
   "source": [
    "Interestingly, looks like there is one cell that stick out, and also quite a few outliers."
   ]
  },
  {
   "cell_type": "code",
   "execution_count": 65,
   "id": "d26dc9bb-f805-4551-9fd1-5e43cda4dd1b",
   "metadata": {},
   "outputs": [
    {
     "name": "stdout",
     "output_type": "stream",
     "text": [
      "Int64Index([1086579256, 1086592299, 1086578313, 1086637417], dtype='int64', name='cell_specimen_id')\n",
      "[0.08101563 0.06412871 0.06329187 0.05767666]\n"
     ]
    }
   ],
   "source": [
    "TOP_K = 4\n",
    "top_k_indices = np.argsort(mean_difference_per_cell)[::-1][:TOP_K]\n",
    "selected_cell_specimen_ids = cell_specimen_ids[top_k_indices]\n",
    "selected_mean_dff_differences = mean_difference_per_cell[top_k_indices]\n",
    "print(selected_cell_specimen_ids)\n",
    "print(selected_mean_dff_differences)"
   ]
  },
  {
   "cell_type": "markdown",
   "id": "fd90146f-3d8b-4990-8c32-53fc399c464b",
   "metadata": {},
   "source": [
    "Let's plot the dF/F trace for these top-K cells before and after one stimulus."
   ]
  },
  {
   "cell_type": "code",
   "execution_count": 66,
   "id": "e84ab845-7a35-41fd-a900-aa14835f2ecd",
   "metadata": {},
   "outputs": [],
   "source": [
    "stimulus_start_time = active_stimulus_start_times[0]"
   ]
  },
  {
   "cell_type": "code",
   "execution_count": 67,
   "id": "e572fb5b-ea88-4bfb-8139-0311fff9df22",
   "metadata": {},
   "outputs": [
    {
     "data": {
      "image/png": "[encoded data removed]",
      "text/plain": [
       "<Figure size 864x288 with 1 Axes>"
      ]
     },
     "metadata": {
      "needs_background": "light"
     },
     "output_type": "display_data"
    }
   ],
   "source": [
    "fig, ax = plt.subplots(1, 1, figsize = (12, 4))\n",
    "\n",
    "for cell_specimen_id, mean_dff_difference in zip(selected_cell_specimen_ids, selected_mean_dff_differences):\n",
    "    ax.plot(\n",
    "        get_timestamps_in_interval(\n",
    "            active_experiment,\n",
    "            stimulus_start_time - TIME_BEFORE_STIMULUS,\n",
    "            stimulus_start_time + TIME_AFTER_STIMULUS,\n",
    "        ),\n",
    "        get_dff_in_interval(\n",
    "            active_experiment,\n",
    "            cell_specimen_id,\n",
    "            stimulus_start_time - TIME_BEFORE_STIMULUS,\n",
    "            stimulus_start_time + TIME_AFTER_STIMULUS,\n",
    "        ),\n",
    "        label=f\"Cell {cell_specimen_id} (diff={mean_dff_difference})\"\n",
    "    )\n",
    "ax.axvline(x=stimulus_start_time, color=\"k\", linestyle=\"-\")\n",
    "\n",
    "ax.set_title(f\"dF/F trace of cells\")\n",
    "ax.set_ylabel(\"dF/F\")\n",
    "ax.set_xlabel(\"time in session (seconds)\")\n",
    "ax.legend(loc='center left', bbox_to_anchor=(1, 0.5), fancybox=True, shadow=True, ncol=1)\n",
    "fig.show()"
   ]
  },
  {
   "cell_type": "markdown",
   "id": "81012ba3-224a-4e1f-819d-1bde38cbe021",
   "metadata": {},
   "source": [
    "We can also plot these for the first few stimulus."
   ]
  },
  {
   "cell_type": "code",
   "execution_count": 68,
   "id": "e59d99ed-4462-45a5-bf20-2c433f34c258",
   "metadata": {},
   "outputs": [
    {
     "data": {
      "image/png": "[encoded data removed]",
      "text/plain": [
       "<Figure size 864x288 with 1 Axes>"
      ]
     },
     "metadata": {
      "needs_background": "light"
     },
     "output_type": "display_data"
    }
   ],
   "source": [
    "fig, ax = plt.subplots(1, 1, figsize = (12, 4))\n",
    "\n",
    "for stimulus_start_time in active_stimulus_start_times[:5]:\n",
    "    for cell_specimen_id in selected_cell_specimen_ids:\n",
    "        ax.plot(\n",
    "            get_timestamps_in_interval(active_experiment, stimulus_start_time-0.25, stimulus_start_time+0.25),\n",
    "            get_dff_in_interval(active_experiment, cell_specimen_id, stimulus_start_time-0.25, stimulus_start_time+0.25),\n",
    "        )\n",
    "    ax.axvline(x=stimulus_start_time, color=\"k\", linestyle=\"-\")\n",
    "\n",
    "ax.set_title('dF/F responses')\n",
    "ax.set_ylabel('dF/F')\n",
    "ax.set_xlabel('time in session (seconds)')\n",
    "fig.tight_layout()\n",
    "fig.show()"
   ]
  },
  {
   "cell_type": "markdown",
   "id": "f41a5141-255e-48c4-8f68-f56f2799f60f",
   "metadata": {
    "tags": []
   },
   "source": [
    "## Hypothesis Testing"
   ]
  },
  {
   "cell_type": "markdown",
   "id": "8a380288-f551-4b4b-aa6e-68725e712a0e",
   "metadata": {},
   "source": [
    "We selected 4 cells in the previous section."
   ]
  },
  {
   "cell_type": "code",
   "execution_count": 69,
   "id": "bbd3a186-87ec-41c0-b80e-85c83552781b",
   "metadata": {},
   "outputs": [
    {
     "data": {
      "text/plain": [
       "Int64Index([1086579256, 1086592299, 1086578313, 1086637417], dtype='int64', name='cell_specimen_id')"
      ]
     },
     "execution_count": 69,
     "metadata": {},
     "output_type": "execute_result"
    }
   ],
   "source": [
    "selected_cell_specimen_ids"
   ]
  },
  {
   "cell_type": "markdown",
   "id": "8ff6ed4b-e791-4e0a-805c-167930a8cec6",
   "metadata": {},
   "source": [
    "Let's select one cell to analyze."
   ]
  },
  {
   "cell_type": "code",
   "execution_count": 70,
   "id": "89bb500e-e1f6-4a98-a313-329edad116c5",
   "metadata": {},
   "outputs": [
    {
     "data": {
      "text/plain": [
       "1086579256"
      ]
     },
     "execution_count": 70,
     "metadata": {},
     "output_type": "execute_result"
    }
   ],
   "source": [
    "selected_cell_specimen_id = selected_cell_specimen_ids[0]\n",
    "selected_cell_specimen_id"
   ]
  },
  {
   "cell_type": "markdown",
   "id": "92ec3986-cae9-4f4c-91c6-37ddcdd4828e",
   "metadata": {},
   "source": [
    "To test our hypothesis, we need both active and passive sessions, so let's load the passive session now."
   ]
  },
  {
   "cell_type": "code",
   "execution_count": 71,
   "id": "ddf4dd87-4fca-46fd-a19a-72fcd617adec",
   "metadata": {},
   "outputs": [],
   "source": [
    "passive_experiment = cache.get_behavior_ophys_experiment(PASSIVE_EXPERIMENT_ID)"
   ]
  },
  {
   "cell_type": "code",
   "execution_count": 72,
   "id": "99bc8c0a-f342-4bdc-b658-5234e5693de4",
   "metadata": {},
   "outputs": [],
   "source": [
    "passive_stimulus_start_times = passive_experiment.stimulus_presentations.query(\"not omitted\")[\"start_time\"]"
   ]
  },
  {
   "cell_type": "markdown",
   "id": "d3c5f8b8-f71a-4934-b496-4c1f591f3e42",
   "metadata": {},
   "source": [
    "### One stimulus"
   ]
  },
  {
   "cell_type": "code",
   "execution_count": 73,
   "id": "ad299f28-740e-4a96-a512-b7bd4d89d282",
   "metadata": {},
   "outputs": [],
   "source": [
    "active_stimulus_start_time = active_stimulus_start_times[0]\n",
    "passive_stimulus_start_time = passive_stimulus_start_times[0]"
   ]
  },
  {
   "cell_type": "code",
   "execution_count": 74,
   "id": "6ca86fac-8897-477e-b1c7-34e182b76f34",
   "metadata": {},
   "outputs": [],
   "source": [
    "active_timestamps = get_timestamps_in_interval(active_experiment, active_stimulus_start_time, active_stimulus_start_time+0.250)\n",
    "active_dff = get_dff_in_interval(active_experiment, selected_cell_specimen_id, active_stimulus_start_time, active_stimulus_start_time+0.250)"
   ]
  },
  {
   "cell_type": "code",
   "execution_count": 75,
   "id": "31b8bf24-bd7e-46e4-94b9-e277e760f49c",
   "metadata": {},
   "outputs": [],
   "source": [
    "passive_timestamps = get_timestamps_in_interval(passive_experiment, passive_stimulus_start_time, passive_stimulus_start_time+0.250)\n",
    "passive_dff = get_dff_in_interval(passive_experiment, selected_cell_specimen_id, passive_stimulus_start_time, passive_stimulus_start_time+0.250)"
   ]
  },
  {
   "cell_type": "code",
   "execution_count": 76,
   "id": "e3afc9df-b53a-4ef1-ba86-dd2df109f775",
   "metadata": {},
   "outputs": [
    {
     "data": {
      "image/png": "[encoded data removed]",
      "text/plain": [
       "<Figure size 432x288 with 1 Axes>"
      ]
     },
     "metadata": {
      "needs_background": "light"
     },
     "output_type": "display_data"
    }
   ],
   "source": [
    "fig, ax = plt.subplots()\n",
    "ax.plot(active_timestamps - active_timestamps[0], active_dff, label=\"active\")\n",
    "ax.plot(passive_timestamps - passive_timestamps[0], passive_dff, label=\"passive\")\n",
    "fig.legend()\n",
    "fig.show()"
   ]
  },
  {
   "cell_type": "code",
   "execution_count": 90,
   "id": "199b707e-420d-4030-9893-bde97efeafa5",
   "metadata": {},
   "outputs": [],
   "source": [
    "active_dff_means = []\n",
    "active_dff_stds = []\n",
    "for start_time in active_stimulus_start_times:\n",
    "    dff = get_dff_in_interval(active_experiment, selected_cell_specimen_id, start_time, start_time+0.250)\n",
    "    active_dff_means.append(np.mean(dff))\n",
    "    active_dff_stds.append(np.std(dff))"
   ]
  },
  {
   "cell_type": "code",
   "execution_count": 91,
   "id": "141cc20b-f169-4950-80c1-73ed51a359b9",
   "metadata": {},
   "outputs": [],
   "source": [
    "passive_dff_means = []\n",
    "passive_dff_stds = []\n",
    "for start_time in passive_stimulus_start_times:\n",
    "    dff = get_dff_in_interval(passive_experiment, selected_cell_specimen_id, start_time, start_time+0.250)\n",
    "    passive_dff_means.append(np.mean(dff))\n",
    "    passive_dff_stds.append(np.std(dff))"
   ]
  },
  {
   "cell_type": "code",
   "execution_count": 104,
   "id": "eca5012c-6a8c-4f3c-8ef9-cbb9f02eca41",
   "metadata": {},
   "outputs": [
    {
     "data": {
      "image/png": "[encoded data removed]",
      "text/plain": [
       "<Figure size 864x288 with 2 Axes>"
      ]
     },
     "metadata": {
      "needs_background": "light"
     },
     "output_type": "display_data"
    }
   ],
   "source": [
    "fig, axes = plt.subplots(1, 2, figsize=(12, 4))\n",
    "\n",
    "axes[0].hist(active_dff_means)\n",
    "axes[1].hist(passive_dff_means)\n",
    "\n",
    "axes[0].set_title(\"Active mean\")\n",
    "axes[1].set_title(\"Passive mean\")\n",
    "\n",
    "fig.show()"
   ]
  },
  {
   "cell_type": "code",
   "execution_count": 105,
   "id": "d0bebfaa-d710-467d-a7bb-5bebb6e43c91",
   "metadata": {},
   "outputs": [
    {
     "data": {
      "image/png": "[encoded data removed]",
      "text/plain": [
       "<Figure size 864x288 with 2 Axes>"
      ]
     },
     "metadata": {
      "needs_background": "light"
     },
     "output_type": "display_data"
    }
   ],
   "source": [
    "fig, axes = plt.subplots(1, 2, figsize=(12, 4))\n",
    "\n",
    "axes[0].hist(active_dff_stds)\n",
    "axes[1].hist(passive_dff_stds)\n",
    "\n",
    "axes[0].set_title(\"Active std\")\n",
    "axes[1].set_title(\"Passive std\")\n",
    "\n",
    "fig.show()"
   ]
  },
  {
   "cell_type": "markdown",
   "id": "2084984b-2c4b-48e8-8a72-3d9ffa74571d",
   "metadata": {},
   "source": [
    "### Multiple stimulus (WIP)"
   ]
  },
  {
   "cell_type": "code",
   "execution_count": 77,
   "id": "96ee3e5f-1514-409b-8ded-a5b8ce2fd6d8",
   "metadata": {},
   "outputs": [
    {
     "name": "stderr",
     "output_type": "stream",
     "text": [
      "100%|██████████| 4640/4640 [00:01<00:00, 2641.66it/s]\n"
     ]
    }
   ],
   "source": [
    "diff_traces_per_stimulus = []\n",
    "active_dffs = []\n",
    "for stimulus_start_time in tqdm(active_stimulus_start_times):\n",
    "    dff = get_dff_in_interval(active_experiment, selected_cell_specimen_id, stimulus_start_time, stimulus_start_time+0.250)\n",
    "    active_dffs.append(dff)"
   ]
  },
  {
   "cell_type": "code",
   "execution_count": 78,
   "id": "3929edff-b9ff-4d83-9d8e-10e3ecf3ed76",
   "metadata": {},
   "outputs": [
    {
     "data": {
      "text/plain": [
       "Counter({8: 3411, 7: 1229})"
      ]
     },
     "execution_count": 78,
     "metadata": {},
     "output_type": "execute_result"
    }
   ],
   "source": [
    "from collections import Counter\n",
    "\n",
    "Counter([len(active_dff) for active_dff in active_dffs])"
   ]
  }
 ],
 "metadata": {
  "kernelspec": {
   "display_name": "Python [conda env:nma-cn]",
   "language": "python",
   "name": "conda-env-nma-cn-py"
  },
  "language_info": {
   "codemirror_mode": {
    "name": "ipython",
    "version": 3
   },
   "file_extension": ".py",
   "mimetype": "text/x-python",
   "name": "python",
   "nbconvert_exporter": "python",
   "pygments_lexer": "ipython3",
   "version": "3.8.10"
  }
 },
 "nbformat": 4,
 "nbformat_minor": 5
}
