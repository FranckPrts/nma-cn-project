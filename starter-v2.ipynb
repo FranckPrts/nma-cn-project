{
 "cells": [
  {
   "cell_type": "markdown",
   "id": "ca89c69d-9fec-47ac-b259-9b02df39b4b6",
   "metadata": {},
   "source": [
    "# NMA CN Project"
   ]
  },
  {
   "cell_type": "markdown",
   "id": "cb91a76d-02ab-46f2-99cc-ab33a81c695d",
   "metadata": {
    "tags": []
   },
   "source": [
    "## Imports"
   ]
  },
  {
   "cell_type": "code",
   "execution_count": 1,
   "id": "f54b67f6-4d74-4581-bd9e-87f6ca1b65e5",
   "metadata": {},
   "outputs": [
    {
     "name": "stderr",
     "output_type": "stream",
     "text": [
      "/home/seungjaeryanlee/anaconda3/envs/nma-cn/lib/python3.8/site-packages/allensdk/brain_observatory/session_api_utils.py:15: FutureWarning: pandas.util.testing is deprecated. Use the functions in the public API at pandas.testing instead.\n",
      "  from pandas.util.testing import assert_frame_equal\n"
     ]
    }
   ],
   "source": [
    "from pathlib import Path\n",
    "from tqdm import tqdm\n",
    "\n",
    "import matplotlib.pyplot as plt\n",
    "import numpy as np\n",
    "import pandas as pd\n",
    "import seaborn as sns\n",
    "\n",
    "from allensdk.brain_observatory.behavior.behavior_project_cache import VisualBehaviorOphysProjectCache\n",
    "\n",
    "import mindscope_utilities\n",
    "import mindscope_utilities.visual_behavior_ophys as ophys"
   ]
  },
  {
   "cell_type": "code",
   "execution_count": 2,
   "id": "2704de60-8e2c-4991-bb17-2c550f9edcf7",
   "metadata": {},
   "outputs": [],
   "source": [
    "np.random.seed(42)"
   ]
  },
  {
   "cell_type": "markdown",
   "id": "f4365eb5-3efb-47a3-ae4c-219fbbc0c93f",
   "metadata": {
    "tags": []
   },
   "source": [
    "## Setup AllenSDK"
   ]
  },
  {
   "cell_type": "code",
   "execution_count": 3,
   "id": "384272fc-6e1a-48fc-95c3-b8e8c82bb0ce",
   "metadata": {},
   "outputs": [],
   "source": [
    "DATA_STORAGE_DIRECTORY = Path(\"./allensdk_storage\")"
   ]
  },
  {
   "cell_type": "code",
   "execution_count": 4,
   "id": "7e4dec19-a09f-42a9-acca-83783f51484e",
   "metadata": {},
   "outputs": [],
   "source": [
    "cache = VisualBehaviorOphysProjectCache.from_s3_cache(cache_dir=DATA_STORAGE_DIRECTORY)"
   ]
  },
  {
   "cell_type": "code",
   "execution_count": 5,
   "id": "a278be53-4b29-42e6-9acd-564705fb6c5f",
   "metadata": {},
   "outputs": [],
   "source": [
    "sessions_df = cache.get_behavior_session_table()\n",
    "experiments_df = cache.get_ophys_experiment_table()"
   ]
  },
  {
   "cell_type": "markdown",
   "id": "cbdcff08-33da-4c3d-9277-2dc93e38533a",
   "metadata": {
    "tags": []
   },
   "source": [
    "## Specify Experiment"
   ]
  },
  {
   "cell_type": "markdown",
   "id": "4cbbeb11-2ffa-454d-a4de-7517196a0451",
   "metadata": {
    "tags": []
   },
   "source": [
    "### Cre Line"
   ]
  },
  {
   "cell_type": "markdown",
   "id": "90691978-a42e-4d1f-9657-1613417d4b56",
   "metadata": {},
   "source": [
    "<img style=\"width: 50%\" src=\"images/cre_lines.png\">"
   ]
  },
  {
   "cell_type": "code",
   "execution_count": 6,
   "id": "fd890ee2-1e7a-4a8e-abfa-048d77d485ab",
   "metadata": {},
   "outputs": [],
   "source": [
    "# We are looking at excitatory cells\n",
    "CRE_LINE = \"Slc17a7-IRES2-Cre\""
   ]
  },
  {
   "cell_type": "markdown",
   "id": "f6d9121e-ff34-4550-b3bd-f74a599bddd2",
   "metadata": {
    "tags": []
   },
   "source": [
    "### Project Code"
   ]
  },
  {
   "cell_type": "markdown",
   "id": "b9a08477-1a5e-400e-a785-ce41b1e15abb",
   "metadata": {},
   "source": [
    "<img style=\"width: 50%\" src=\"images/variants_table.png\">"
   ]
  },
  {
   "cell_type": "code",
   "execution_count": 7,
   "id": "d776e736-3611-4642-8ed4-bc27fbafca2a",
   "metadata": {},
   "outputs": [],
   "source": [
    "# We are looking at single-plane imaging\n",
    "# \"VisualBehavior\" or \"VisualBehaviorTask1B\"\n",
    "PROJECT_CODE = \"VisualBehavior\""
   ]
  },
  {
   "cell_type": "markdown",
   "id": "63f9b9e4-35f5-4b60-bf48-34651f6aee17",
   "metadata": {
    "tags": []
   },
   "source": [
    "### Experiment"
   ]
  },
  {
   "cell_type": "markdown",
   "id": "6dca835b-2eb7-4b87-9d7d-3d05347c58ee",
   "metadata": {},
   "source": [
    "<img style=\"width: 50%\" src=\"images/data_structure.png\">"
   ]
  },
  {
   "cell_type": "code",
   "execution_count": 8,
   "id": "926cc497-1668-463c-b98d-9d3a9e41dc0e",
   "metadata": {},
   "outputs": [],
   "source": [
    "# Choose one container. (This should decide the MOUSE_ID as well)\n",
    "# OPHYS_CONTAINER_IDS = experiments_df.query(\"project_code == @PROJECT_CODE\").query(\"cre_line == @CRE_LINE\")[\"ophys_container_id\"].unique()\n",
    "OPHYS_CONTAINER_ID = 876693090\n",
    "\n",
    "# A particular mouse fitting all descriptions\n",
    "MOUSE_ID = 449441\n",
    "\n",
    "# We are looking at one active and one passive session, but not all might be available for each mouse\n",
    "# AVAILABLE_SESSIONS = [\"ophys_container_id\"].query(\"mouse_id == @MOUSE_ID\").unique()\n",
    "# These are the active sessions:\n",
    "# - OPHYS_1_images_A/B\n",
    "# - OPHYS_3_images_A/B\n",
    "# - OPHYS_4_images_A/B\n",
    "# - OPHYS_6_images_A/B\n",
    "ACTIVE_SESSION = \"OPHYS_1_images_A\"\n",
    "# These are the passive sessions:\n",
    "# - OPHYS_2_images_A/B_passive\n",
    "# - OPHYS_5_images_A/B_passive\n",
    "PASSIVE_SESSION = \"OPHYS_2_images_A_passive\"\n",
    "\n",
    "# experiments_df.query(\"project_code == @PROJECT_CODE\") \\\n",
    "#               .query(\"cre_line == @CRE_LINE\") \\\n",
    "#               .query(\"ophys_container_id == @OPHYS_CONTAINER_ID\") \\\n",
    "#               .query(\"session_type == @ACTIVE_SESSION\").index.values[0]\n",
    "ACTIVE_EXPERIMENT_ID = 879332693\n",
    "# experiments_df.query(\"project_code == @PROJECT_CODE\") \\\n",
    "#               .query(\"cre_line == @CRE_LINE\") \\\n",
    "#               .query(\"ophys_container_id == @OPHYS_CONTAINER_ID\") \\\n",
    "#               .query(\"session_type == @PASSIVE_SESSION\").index.values[0]\n",
    "PASSIVE_EXPERIMENT_ID = 877696762"
   ]
  },
  {
   "cell_type": "markdown",
   "id": "adc184d6-ac4a-459d-9c84-6538d5d6664c",
   "metadata": {},
   "source": [
    "## Cell Selection"
   ]
  },
  {
   "cell_type": "code",
   "execution_count": 9,
   "id": "c0614c37-ebff-476f-bbaf-f27c12a1cb71",
   "metadata": {},
   "outputs": [],
   "source": [
    "active_experiment = cache.get_behavior_ophys_experiment(ACTIVE_EXPERIMENT_ID)"
   ]
  },
  {
   "cell_type": "code",
   "execution_count": 10,
   "id": "4671cd17-60ce-4283-ad79-f32c5b748e1c",
   "metadata": {},
   "outputs": [],
   "source": [
    "def get_cell_specimen_ids(experiment):\n",
    "    \"\"\"\n",
    "    Get all the cell specimen ids recorded in the experiment.\n",
    "    \"\"\"\n",
    "    return experiment.dff_traces.index"
   ]
  },
  {
   "cell_type": "code",
   "execution_count": 11,
   "id": "5674fdd0-d725-47f1-ac19-8ba8d1ffbeb1",
   "metadata": {},
   "outputs": [],
   "source": [
    "def get_timestamps_in_interval(experiment, cell_speciment_id, start, end):\n",
    "    indices = np.argwhere((experiment.ophys_timestamps >= start) & (experiment.ophys_timestamps <= end))[:, 0]\n",
    "    return experiment.ophys_timestamps[indices]"
   ]
  },
  {
   "cell_type": "code",
   "execution_count": 12,
   "id": "fb299820-5ea7-4daf-a71a-73070e61f495",
   "metadata": {},
   "outputs": [],
   "source": [
    "def get_dff_in_interval_v2(experiment, cell_specimen_id, start, end):\n",
    "    start_timestamp_idx = np.argwhere(experiment.ophys_timestamps >= start)[0][0]\n",
    "    end_timestamp_idx = np.argwhere(experiment.ophys_timestamps <= end)[-1][0]\n",
    "\n",
    "    return experiment.dff_traces.loc[cell_specimen_id][\"dff\"][start_timestamp_idx:end_timestamp_idx+1]"
   ]
  },
  {
   "cell_type": "code",
   "execution_count": 13,
   "id": "2804f74b-a23d-4a60-98db-f54338c1b84c",
   "metadata": {},
   "outputs": [],
   "source": [
    "stimulus_start_time = float(active_experiment.stimulus_presentations.loc[0][\"start_time\"])\n",
    "start_time, stop_time = stimulus_start_time - 0.25, stimulus_start_time + 0.25"
   ]
  },
  {
   "cell_type": "code",
   "execution_count": 14,
   "id": "4287f271-9373-4236-a485-6140e5aec862",
   "metadata": {},
   "outputs": [
    {
     "name": "stderr",
     "output_type": "stream",
     "text": [
      "100%|██████████| 415/415 [00:00<00:00, 434.91it/s]\n"
     ]
    },
    {
     "data": {
      "image/png": "[encoded data removed]",
      "text/plain": [
       "<Figure size 432x288 with 1 Axes>"
      ]
     },
     "metadata": {
      "needs_background": "light"
     },
     "output_type": "display_data"
    }
   ],
   "source": [
    "diffs = []\n",
    "for cell_specimen_id in tqdm(get_cell_specimen_ids(active_experiment)):\n",
    "    trace_before_stimulus = get_dff_in_interval_v2(active_experiment, cell_specimen_id, stimulus_start_time-0.25, stimulus_start_time)\n",
    "    trace_after_stimulus = get_dff_in_interval_v2(active_experiment, cell_specimen_id, stimulus_start_time, stimulus_start_time+0.25)\n",
    "\n",
    "    diffs.append(np.mean(trace_after_stimulus) - np.mean(trace_before_stimulus))\n",
    "plt.hist(diffs);"
   ]
  },
  {
   "cell_type": "code",
   "execution_count": 15,
   "id": "67dffe78-2448-47d9-ab03-8387063f4c52",
   "metadata": {},
   "outputs": [
    {
     "data": {
      "text/plain": [
       "1086604838"
      ]
     },
     "execution_count": 15,
     "metadata": {},
     "output_type": "execute_result"
    }
   ],
   "source": [
    "cell_specimen_ids = get_cell_specimen_ids(active_experiment)\n",
    "cell_specimen_ids[np.argmax(diffs)]"
   ]
  },
  {
   "cell_type": "code",
   "execution_count": 16,
   "id": "f09dde64-e7aa-4428-83fc-7d44295124b1",
   "metadata": {},
   "outputs": [
    {
     "data": {
      "image/png": "[encoded data removed]",
      "text/plain": [
       "<Figure size 1080x288 with 1 Axes>"
      ]
     },
     "metadata": {
      "needs_background": "light"
     },
     "output_type": "display_data"
    }
   ],
   "source": [
    "fig, ax = plt.subplots(1, 1, figsize = (15, 4))\n",
    "\n",
    "for cell_specimen_id in [1086604838]:\n",
    "    ax.plot(\n",
    "        get_timestamps_in_interval(active_experiment, cell_specimen_id, stimulus_start_time-0.25, stimulus_start_time+0.25),\n",
    "        get_dff_in_interval_v2(active_experiment, cell_specimen_id, stimulus_start_time-0.25, stimulus_start_time+0.25),\n",
    "    )\n",
    "\n",
    "ax.axvline(x=stimulus_start_time, color=\"k\", linestyle=\"-\")\n",
    "ax.set_title('dF/F responses')\n",
    "ax.set_ylabel('dF/F')\n",
    "ax.set_xlabel('time in session (seconds)')\n",
    "fig.tight_layout()\n",
    "fig.show()"
   ]
  }
 ],
 "metadata": {
  "kernelspec": {
   "display_name": "Python [conda env:nma-cn]",
   "language": "python",
   "name": "conda-env-nma-cn-py"
  },
  "language_info": {
   "codemirror_mode": {
    "name": "ipython",
    "version": 3
   },
   "file_extension": ".py",
   "mimetype": "text/x-python",
   "name": "python",
   "nbconvert_exporter": "python",
   "pygments_lexer": "ipython3",
   "version": "3.8.10"
  }
 },
 "nbformat": 4,
 "nbformat_minor": 5
}
