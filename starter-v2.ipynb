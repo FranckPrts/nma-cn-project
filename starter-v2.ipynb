{
 "cells": [
  {
   "cell_type": "markdown",
   "id": "ca89c69d-9fec-47ac-b259-9b02df39b4b6",
   "metadata": {},
   "source": [
    "# NMA CN Project"
   ]
  },
  {
   "cell_type": "markdown",
   "id": "cb91a76d-02ab-46f2-99cc-ab33a81c695d",
   "metadata": {
    "tags": [],
    "toc-hr-collapsed": true
   },
   "source": [
    "## Imports"
   ]
  },
  {
   "cell_type": "code",
   "execution_count": 1,
   "id": "f54b67f6-4d74-4581-bd9e-87f6ca1b65e5",
   "metadata": {},
   "outputs": [
    {
     "name": "stderr",
     "output_type": "stream",
     "text": [
      "/home/seungjaeryanlee/anaconda3/envs/nma-cn/lib/python3.8/site-packages/allensdk/brain_observatory/session_api_utils.py:15: FutureWarning: pandas.util.testing is deprecated. Use the functions in the public API at pandas.testing instead.\n",
      "  from pandas.util.testing import assert_frame_equal\n"
     ]
    }
   ],
   "source": [
    "from pathlib import Path\n",
    "from tqdm import tqdm\n",
    "\n",
    "import matplotlib.pyplot as plt\n",
    "import numpy as np\n",
    "import pandas as pd\n",
    "import seaborn as sns\n",
    "\n",
    "from allensdk.brain_observatory.behavior.behavior_project_cache import VisualBehaviorOphysProjectCache\n",
    "\n",
    "import mindscope_utilities\n",
    "import mindscope_utilities.visual_behavior_ophys as ophys"
   ]
  },
  {
   "cell_type": "code",
   "execution_count": 2,
   "id": "2704de60-8e2c-4991-bb17-2c550f9edcf7",
   "metadata": {},
   "outputs": [],
   "source": [
    "np.random.seed(42)"
   ]
  },
  {
   "cell_type": "markdown",
   "id": "f4365eb5-3efb-47a3-ae4c-219fbbc0c93f",
   "metadata": {
    "tags": [],
    "toc-hr-collapsed": true
   },
   "source": [
    "## Setup AllenSDK"
   ]
  },
  {
   "cell_type": "code",
   "execution_count": 3,
   "id": "384272fc-6e1a-48fc-95c3-b8e8c82bb0ce",
   "metadata": {},
   "outputs": [],
   "source": [
    "DATA_STORAGE_DIRECTORY = Path(\"./allensdk_storage\")"
   ]
  },
  {
   "cell_type": "code",
   "execution_count": 4,
   "id": "7e4dec19-a09f-42a9-acca-83783f51484e",
   "metadata": {},
   "outputs": [],
   "source": [
    "cache = VisualBehaviorOphysProjectCache.from_s3_cache(cache_dir=DATA_STORAGE_DIRECTORY)"
   ]
  },
  {
   "cell_type": "code",
   "execution_count": 5,
   "id": "a278be53-4b29-42e6-9acd-564705fb6c5f",
   "metadata": {},
   "outputs": [],
   "source": [
    "sessions_df = cache.get_behavior_session_table()\n",
    "experiments_df = cache.get_ophys_experiment_table()"
   ]
  },
  {
   "cell_type": "markdown",
   "id": "cbdcff08-33da-4c3d-9277-2dc93e38533a",
   "metadata": {
    "tags": []
   },
   "source": [
    "## Specify Experiment"
   ]
  },
  {
   "cell_type": "markdown",
   "id": "4cbbeb11-2ffa-454d-a4de-7517196a0451",
   "metadata": {
    "tags": [],
    "toc-hr-collapsed": true
   },
   "source": [
    "### Cre Line"
   ]
  },
  {
   "cell_type": "markdown",
   "id": "90691978-a42e-4d1f-9657-1613417d4b56",
   "metadata": {},
   "source": [
    "<img style=\"width: 50%\" src=\"images/cre_lines.png\">"
   ]
  },
  {
   "cell_type": "code",
   "execution_count": 6,
   "id": "fd890ee2-1e7a-4a8e-abfa-048d77d485ab",
   "metadata": {},
   "outputs": [],
   "source": [
    "# We are looking at excitatory cells\n",
    "CRE_LINE = \"Slc17a7-IRES2-Cre\""
   ]
  },
  {
   "cell_type": "markdown",
   "id": "f6d9121e-ff34-4550-b3bd-f74a599bddd2",
   "metadata": {
    "tags": [],
    "toc-hr-collapsed": true
   },
   "source": [
    "### Project Code"
   ]
  },
  {
   "cell_type": "markdown",
   "id": "b9a08477-1a5e-400e-a785-ce41b1e15abb",
   "metadata": {},
   "source": [
    "<img style=\"width: 50%\" src=\"images/variants_table.png\">"
   ]
  },
  {
   "cell_type": "code",
   "execution_count": 7,
   "id": "d776e736-3611-4642-8ed4-bc27fbafca2a",
   "metadata": {},
   "outputs": [],
   "source": [
    "# We are looking at single-plane imaging\n",
    "# \"VisualBehavior\" or \"VisualBehaviorTask1B\"\n",
    "PROJECT_CODE = \"VisualBehavior\""
   ]
  },
  {
   "cell_type": "markdown",
   "id": "63f9b9e4-35f5-4b60-bf48-34651f6aee17",
   "metadata": {
    "tags": []
   },
   "source": [
    "### Experiment"
   ]
  },
  {
   "cell_type": "markdown",
   "id": "6dca835b-2eb7-4b87-9d7d-3d05347c58ee",
   "metadata": {},
   "source": [
    "<img style=\"width: 50%\" src=\"images/data_structure.png\">"
   ]
  },
  {
   "cell_type": "markdown",
   "id": "f40eb937-d998-4ae9-8609-e0b1f3f358a2",
   "metadata": {
    "tags": [],
    "toc-hr-collapsed": true
   },
   "source": [
    "#### `OPHYS_CONTAINER_ID`"
   ]
  },
  {
   "cell_type": "code",
   "execution_count": 8,
   "id": "5205ae36-a4ac-4e4e-8a20-4c42ceb73de8",
   "metadata": {},
   "outputs": [
    {
     "data": {
      "text/plain": [
       "array([876693090, 869781307, 863992815, 930022332, 902748564, 930024022,\n",
       "       848390542, 845588020, 782536745, 968451510, 939523510, 902748650,\n",
       "       890047007, 803516615, 803517529, 812858755, 876693136, 846213087,\n",
       "       843049827, 829561794, 876461613, 814796612, 803589437, 846215539])"
      ]
     },
     "execution_count": 8,
     "metadata": {},
     "output_type": "execute_result"
    }
   ],
   "source": [
    "experiments_df.query(\"project_code == @PROJECT_CODE\").query(\"cre_line == @CRE_LINE\")[\"ophys_container_id\"].unique()"
   ]
  },
  {
   "cell_type": "code",
   "execution_count": 9,
   "id": "9c017937-39eb-4780-a5e5-00906f51b640",
   "metadata": {},
   "outputs": [],
   "source": [
    "OPHYS_CONTAINER_ID = 876693090"
   ]
  },
  {
   "cell_type": "markdown",
   "id": "63c0e3d5-c10a-47fb-8982-6c5b3927ef9e",
   "metadata": {
    "tags": [],
    "toc-hr-collapsed": true
   },
   "source": [
    "#### `MOUSE_ID`"
   ]
  },
  {
   "cell_type": "code",
   "execution_count": 10,
   "id": "0f9ee773-6a61-404c-a286-7f925b007798",
   "metadata": {},
   "outputs": [
    {
     "data": {
      "text/plain": [
       "array([449441])"
      ]
     },
     "execution_count": 10,
     "metadata": {},
     "output_type": "execute_result"
    }
   ],
   "source": [
    "experiments_df.query(\"project_code == @PROJECT_CODE\").query(\"cre_line == @CRE_LINE\").query(\"ophys_container_id == @OPHYS_CONTAINER_ID\")[\"mouse_id\"].unique()"
   ]
  },
  {
   "cell_type": "code",
   "execution_count": 11,
   "id": "e868d5cf-f53b-447c-8aae-64e4345b4294",
   "metadata": {},
   "outputs": [],
   "source": [
    "MOUSE_ID = 449441"
   ]
  },
  {
   "cell_type": "markdown",
   "id": "34fb2d52-20b3-4538-a394-80fca3a1832a",
   "metadata": {
    "tags": [],
    "toc-hr-collapsed": true
   },
   "source": [
    "#### `ACTIVE_SESSION`, `PASSIVE_SESSION`"
   ]
  },
  {
   "cell_type": "code",
   "execution_count": 12,
   "id": "08c0cf29-1aa7-4574-979a-189dd99c7e50",
   "metadata": {},
   "outputs": [
    {
     "data": {
      "text/plain": [
       "array(['OPHYS_2_images_A_passive', 'OPHYS_1_images_A', 'OPHYS_4_images_B',\n",
       "       'OPHYS_6_images_B', 'OPHYS_5_images_B_passive'], dtype=object)"
      ]
     },
     "execution_count": 12,
     "metadata": {},
     "output_type": "execute_result"
    }
   ],
   "source": [
    "# All available sessions\n",
    "experiments_df.query(\"project_code == @PROJECT_CODE\") \\\n",
    "              .query(\"cre_line == @CRE_LINE\") \\\n",
    "              .query(\"ophys_container_id == @OPHYS_CONTAINER_ID\") \\\n",
    "              .query(\"mouse_id == @MOUSE_ID\") \\\n",
    "              [\"session_type\"].unique()"
   ]
  },
  {
   "cell_type": "code",
   "execution_count": 13,
   "id": "82943924-b380-4c22-a6cb-567d8f5be5bb",
   "metadata": {},
   "outputs": [],
   "source": [
    "# We are looking at one active and one passive session, but not all might be available for each mouse\n",
    "# These are the active sessions:\n",
    "# - OPHYS_1_images_A/B\n",
    "# - OPHYS_3_images_A/B\n",
    "# - OPHYS_4_images_A/B\n",
    "# - OPHYS_6_images_A/B\n",
    "ACTIVE_SESSION = \"OPHYS_1_images_A\"\n",
    "# These are the passive sessions:\n",
    "# - OPHYS_2_images_A/B_passive\n",
    "# - OPHYS_5_images_A/B_passive\n",
    "PASSIVE_SESSION = \"OPHYS_2_images_A_passive\""
   ]
  },
  {
   "cell_type": "markdown",
   "id": "ea679b6e-237e-4b9e-a5f2-02f4d57f26e6",
   "metadata": {
    "tags": [],
    "toc-hr-collapsed": true
   },
   "source": [
    "#### `ACTIVE_EXPERIMENT_ID`, `PASSIVE_EXPERIMENT_ID`"
   ]
  },
  {
   "cell_type": "code",
   "execution_count": 14,
   "id": "19ee6956-b3e8-4827-893a-a2e45a911c44",
   "metadata": {},
   "outputs": [
    {
     "data": {
      "text/plain": [
       "Int64Index([879332693], dtype='int64', name='ophys_experiment_id')"
      ]
     },
     "execution_count": 14,
     "metadata": {},
     "output_type": "execute_result"
    }
   ],
   "source": [
    "experiments_df.query(\"project_code == @PROJECT_CODE\") \\\n",
    "              .query(\"cre_line == @CRE_LINE\") \\\n",
    "              .query(\"ophys_container_id == @OPHYS_CONTAINER_ID\") \\\n",
    "              .query(\"mouse_id == @MOUSE_ID\") \\\n",
    "              .query(\"session_type == @ACTIVE_SESSION\").index"
   ]
  },
  {
   "cell_type": "code",
   "execution_count": 15,
   "id": "926cc497-1668-463c-b98d-9d3a9e41dc0e",
   "metadata": {},
   "outputs": [],
   "source": [
    "ACTIVE_EXPERIMENT_ID = 879332693"
   ]
  },
  {
   "cell_type": "code",
   "execution_count": 16,
   "id": "062f98ae-c6da-497b-8e17-3e9ad33adedd",
   "metadata": {},
   "outputs": [
    {
     "data": {
      "text/plain": [
       "877696762"
      ]
     },
     "execution_count": 16,
     "metadata": {},
     "output_type": "execute_result"
    }
   ],
   "source": [
    "experiments_df.query(\"project_code == @PROJECT_CODE\") \\\n",
    "              .query(\"cre_line == @CRE_LINE\") \\\n",
    "              .query(\"ophys_container_id == @OPHYS_CONTAINER_ID\") \\\n",
    "              .query(\"session_type == @PASSIVE_SESSION\").index.values[0]"
   ]
  },
  {
   "cell_type": "code",
   "execution_count": 17,
   "id": "42d4f0ea-ef74-48ae-b3c6-25f3e90cc94e",
   "metadata": {},
   "outputs": [],
   "source": [
    "PASSIVE_EXPERIMENT_ID = 877696762"
   ]
  },
  {
   "cell_type": "markdown",
   "id": "adc184d6-ac4a-459d-9c84-6538d5d6664c",
   "metadata": {},
   "source": [
    "## Cell Selection"
   ]
  },
  {
   "cell_type": "code",
   "execution_count": 18,
   "id": "c0614c37-ebff-476f-bbaf-f27c12a1cb71",
   "metadata": {},
   "outputs": [],
   "source": [
    "active_experiment = cache.get_behavior_ophys_experiment(ACTIVE_EXPERIMENT_ID)"
   ]
  },
  {
   "cell_type": "code",
   "execution_count": 19,
   "id": "4671cd17-60ce-4283-ad79-f32c5b748e1c",
   "metadata": {},
   "outputs": [],
   "source": [
    "def get_cell_specimen_ids(experiment):\n",
    "    \"\"\"\n",
    "    Get all the cell specimen ids recorded in the experiment.\n",
    "    \"\"\"\n",
    "    return experiment.dff_traces.index"
   ]
  },
  {
   "cell_type": "code",
   "execution_count": 20,
   "id": "e9b7818f-3826-4dc7-90da-c6cd561da780",
   "metadata": {},
   "outputs": [],
   "source": [
    "def get_indices_in_interval(experiment, start, end):\n",
    "    indices = np.argwhere((experiment.ophys_timestamps >= start) & (experiment.ophys_timestamps <= end))[:, 0]\n",
    "    return indices"
   ]
  },
  {
   "cell_type": "code",
   "execution_count": 21,
   "id": "5674fdd0-d725-47f1-ac19-8ba8d1ffbeb1",
   "metadata": {},
   "outputs": [],
   "source": [
    "def get_timestamps_in_interval(experiment, cell_speciment_id, start, end):\n",
    "    indices = get_indices_in_interval(experiment, start, end)\n",
    "    return experiment.ophys_timestamps[indices]"
   ]
  },
  {
   "cell_type": "code",
   "execution_count": 22,
   "id": "823a8769-bde2-4b75-9c32-dfd1b6941013",
   "metadata": {},
   "outputs": [],
   "source": [
    "def get_dff_in_interval(experiment, cell_specimen_id, start, end):\n",
    "    indices = get_indices_in_interval(experiment, start, end)\n",
    "    return experiment.dff_traces.loc[cell_specimen_id][\"dff\"][indices[0]:indices[-1]+1]"
   ]
  },
  {
   "cell_type": "markdown",
   "id": "aff72508-263b-4996-bad0-3e2a2ef1d003",
   "metadata": {},
   "source": [
    "### For single stimulus"
   ]
  },
  {
   "cell_type": "code",
   "execution_count": 23,
   "id": "2804f74b-a23d-4a60-98db-f54338c1b84c",
   "metadata": {},
   "outputs": [],
   "source": [
    "stimulus_start_time = float(active_experiment.stimulus_presentations.loc[0][\"start_time\"])"
   ]
  },
  {
   "cell_type": "code",
   "execution_count": 24,
   "id": "4287f271-9373-4236-a485-6140e5aec862",
   "metadata": {},
   "outputs": [
    {
     "name": "stderr",
     "output_type": "stream",
     "text": [
      "100%|██████████| 415/415 [00:00<00:00, 567.54it/s]\n"
     ]
    },
    {
     "data": {
      "image/png": "[encoded data removed]",
      "text/plain": [
       "<Figure size 432x288 with 1 Axes>"
      ]
     },
     "metadata": {
      "needs_background": "light"
     },
     "output_type": "display_data"
    }
   ],
   "source": [
    "diffs = []\n",
    "for cell_specimen_id in tqdm(get_cell_specimen_ids(active_experiment)):\n",
    "    trace_before_stimulus = get_dff_in_interval(active_experiment, cell_specimen_id, stimulus_start_time-0.25, stimulus_start_time)\n",
    "    trace_after_stimulus = get_dff_in_interval(active_experiment, cell_specimen_id, stimulus_start_time, stimulus_start_time+0.25)\n",
    "\n",
    "    diffs.append(np.mean(trace_after_stimulus) - np.mean(trace_before_stimulus))\n",
    "plt.hist(diffs);"
   ]
  },
  {
   "cell_type": "code",
   "execution_count": 25,
   "id": "67dffe78-2448-47d9-ab03-8387063f4c52",
   "metadata": {},
   "outputs": [
    {
     "data": {
      "text/plain": [
       "1086604838"
      ]
     },
     "execution_count": 25,
     "metadata": {},
     "output_type": "execute_result"
    }
   ],
   "source": [
    "cell_specimen_ids = get_cell_specimen_ids(active_experiment)\n",
    "cell_specimen_ids[np.argmax(diffs)]"
   ]
  },
  {
   "cell_type": "code",
   "execution_count": 26,
   "id": "f09dde64-e7aa-4428-83fc-7d44295124b1",
   "metadata": {},
   "outputs": [
    {
     "data": {
      "image/png": "[encoded data removed]",
      "text/plain": [
       "<Figure size 1080x288 with 1 Axes>"
      ]
     },
     "metadata": {
      "needs_background": "light"
     },
     "output_type": "display_data"
    }
   ],
   "source": [
    "fig, ax = plt.subplots(1, 1, figsize = (15, 4))\n",
    "\n",
    "for cell_specimen_id in [1086604838]:\n",
    "    ax.plot(\n",
    "        get_timestamps_in_interval(active_experiment, cell_specimen_id, stimulus_start_time-0.25, stimulus_start_time+0.25),\n",
    "        get_dff_in_interval(active_experiment, cell_specimen_id, stimulus_start_time-0.25, stimulus_start_time+0.25),\n",
    "    )\n",
    "\n",
    "ax.axvline(x=stimulus_start_time, color=\"k\", linestyle=\"-\")\n",
    "ax.set_title('dF/F responses')\n",
    "ax.set_ylabel('dF/F')\n",
    "ax.set_xlabel('time in session (seconds)')\n",
    "fig.tight_layout()\n",
    "fig.show()"
   ]
  },
  {
   "cell_type": "markdown",
   "id": "386f11c2-6e4e-4324-afec-3706fefc5d25",
   "metadata": {},
   "source": [
    "### For all stimulus"
   ]
  },
  {
   "cell_type": "code",
   "execution_count": 27,
   "id": "ec9582fb-08f3-43e1-ac0e-f5fe6695413a",
   "metadata": {},
   "outputs": [],
   "source": [
    "stimulus_start_times = active_experiment.stimulus_presentations[\"start_time\"]"
   ]
  },
  {
   "cell_type": "code",
   "execution_count": 28,
   "id": "715a20b8-e76e-4fe4-8d71-1c3a1161aca3",
   "metadata": {},
   "outputs": [
    {
     "data": {
      "text/html": [
       "<div>\n",
       "<style scoped>\n",
       "    .dataframe tbody tr th:only-of-type {\n",
       "        vertical-align: middle;\n",
       "    }\n",
       "\n",
       "    .dataframe tbody tr th {\n",
       "        vertical-align: top;\n",
       "    }\n",
       "\n",
       "    .dataframe thead th {\n",
       "        text-align: right;\n",
       "    }\n",
       "</style>\n",
       "<table border=\"1\" class=\"dataframe\">\n",
       "  <thead>\n",
       "    <tr style=\"text-align: right;\">\n",
       "      <th></th>\n",
       "      <th>cell_roi_id</th>\n",
       "      <th>dff</th>\n",
       "    </tr>\n",
       "    <tr>\n",
       "      <th>cell_specimen_id</th>\n",
       "      <th></th>\n",
       "      <th></th>\n",
       "    </tr>\n",
       "  </thead>\n",
       "  <tbody>\n",
       "    <tr>\n",
       "      <th>1086601848</th>\n",
       "      <td>1080867796</td>\n",
       "      <td>[0.28201794368039823, 0.1903022438869266, 0.21...</td>\n",
       "    </tr>\n",
       "    <tr>\n",
       "      <th>1086602069</th>\n",
       "      <td>1080867804</td>\n",
       "      <td>[0.13884965897445056, 0.3963619942985226, 0.24...</td>\n",
       "    </tr>\n",
       "    <tr>\n",
       "      <th>1086635982</th>\n",
       "      <td>1080867837</td>\n",
       "      <td>[0.5498754867600153, 0.26557468920820837, 0.43...</td>\n",
       "    </tr>\n",
       "    <tr>\n",
       "      <th>1086578646</th>\n",
       "      <td>1080867844</td>\n",
       "      <td>[0.20886659311964556, 0.08442318243036104, 0.2...</td>\n",
       "    </tr>\n",
       "    <tr>\n",
       "      <th>1086598188</th>\n",
       "      <td>1080867847</td>\n",
       "      <td>[0.28967144653172083, 0.49236151316004095, 0.4...</td>\n",
       "    </tr>\n",
       "  </tbody>\n",
       "</table>\n",
       "</div>"
      ],
      "text/plain": [
       "                  cell_roi_id  \\\n",
       "cell_specimen_id                \n",
       "1086601848         1080867796   \n",
       "1086602069         1080867804   \n",
       "1086635982         1080867837   \n",
       "1086578646         1080867844   \n",
       "1086598188         1080867847   \n",
       "\n",
       "                                                                dff  \n",
       "cell_specimen_id                                                     \n",
       "1086601848        [0.28201794368039823, 0.1903022438869266, 0.21...  \n",
       "1086602069        [0.13884965897445056, 0.3963619942985226, 0.24...  \n",
       "1086635982        [0.5498754867600153, 0.26557468920820837, 0.43...  \n",
       "1086578646        [0.20886659311964556, 0.08442318243036104, 0.2...  \n",
       "1086598188        [0.28967144653172083, 0.49236151316004095, 0.4...  "
      ]
     },
     "execution_count": 28,
     "metadata": {},
     "output_type": "execute_result"
    }
   ],
   "source": [
    "active_experiment.dff_traces.head(5)"
   ]
  },
  {
   "cell_type": "code",
   "execution_count": 29,
   "id": "ee0947da-e439-4b7d-99a8-e1b688309258",
   "metadata": {},
   "outputs": [],
   "source": [
    "dff_matrix = np.array(active_experiment.dff_traces[\"dff\"].tolist())"
   ]
  },
  {
   "cell_type": "code",
   "execution_count": 30,
   "id": "5dba1dce-bfc5-4820-87de-08cb65c8d554",
   "metadata": {},
   "outputs": [
    {
     "name": "stderr",
     "output_type": "stream",
     "text": [
      "100%|██████████| 4807/4807 [00:02<00:00, 2144.42it/s]\n"
     ]
    }
   ],
   "source": [
    "diff_traces_per_stimulus = []\n",
    "for stimulus_start_time in tqdm(stimulus_start_times):\n",
    "    diffs = []\n",
    "    before_indices = get_indices_in_interval(active_experiment, stimulus_start_time-0.25, stimulus_start_time)\n",
    "    after_indices = get_indices_in_interval(active_experiment, stimulus_start_time, stimulus_start_time+0.25)\n",
    "    before_mean_traces = np.mean(dff_matrix[:, before_indices], axis=1)\n",
    "    after_mean_traces = np.mean(dff_matrix[:, after_indices], axis=1)\n",
    "    diff_traces = after_mean_traces - before_mean_traces\n",
    "    diff_traces_per_stimulus.append(diff_traces)"
   ]
  },
  {
   "cell_type": "code",
   "execution_count": 31,
   "id": "10e8f33b-c5ea-4e07-bf44-b15246489ae7",
   "metadata": {},
   "outputs": [],
   "source": [
    "diff_matrix = np.stack(diff_traces_per_stimulus, axis=1)"
   ]
  },
  {
   "cell_type": "code",
   "execution_count": 32,
   "id": "5c78c9bf-6a0b-440f-a18e-115f82d59e97",
   "metadata": {},
   "outputs": [],
   "source": [
    "mean_diff_per_cell = np.mean(diff_matrix, axis=1)"
   ]
  },
  {
   "cell_type": "code",
   "execution_count": 33,
   "id": "21995a25-a24a-46a8-9dda-7daef2bd15b1",
   "metadata": {},
   "outputs": [
    {
     "data": {
      "image/png": "[encoded data removed]",
      "text/plain": [
       "<Figure size 432x288 with 1 Axes>"
      ]
     },
     "metadata": {
      "needs_background": "light"
     },
     "output_type": "display_data"
    }
   ],
   "source": [
    "plt.hist(mean_diff_per_cell);"
   ]
  },
  {
   "cell_type": "code",
   "execution_count": 34,
   "id": "1cc62bd4-9eba-4554-b1eb-174ef7cbad87",
   "metadata": {},
   "outputs": [
    {
     "data": {
      "text/plain": [
       "1086578313"
      ]
     },
     "execution_count": 34,
     "metadata": {},
     "output_type": "execute_result"
    }
   ],
   "source": [
    "cell_specimen_ids = get_cell_specimen_ids(active_experiment)\n",
    "cell_specimen_ids[np.argmax(mean_diff_per_cell)]"
   ]
  },
  {
   "cell_type": "code",
   "execution_count": 35,
   "id": "5bd8ea26-c000-40f8-9f98-c4ea9f6e11ba",
   "metadata": {},
   "outputs": [
    {
     "data": {
      "text/plain": [
       "0.04483521741441901"
      ]
     },
     "execution_count": 35,
     "metadata": {},
     "output_type": "execute_result"
    }
   ],
   "source": [
    "np.max(mean_diff_per_cell)"
   ]
  },
  {
   "cell_type": "code",
   "execution_count": 36,
   "id": "b410cd6e-f5cd-43ed-9a3c-6eb42265436e",
   "metadata": {},
   "outputs": [
    {
     "data": {
      "image/png": "[encoded data removed]",
      "text/plain": [
       "<Figure size 1080x288 with 1 Axes>"
      ]
     },
     "metadata": {
      "needs_background": "light"
     },
     "output_type": "display_data"
    }
   ],
   "source": [
    "fig, ax = plt.subplots(1, 1, figsize = (15, 4))\n",
    "\n",
    "for cell_specimen_id in [1086578313]:\n",
    "    ax.plot(\n",
    "        get_timestamps_in_interval(active_experiment, cell_specimen_id, stimulus_start_time-0.25, stimulus_start_time+0.25),\n",
    "        get_dff_in_interval(active_experiment, cell_specimen_id, stimulus_start_time-0.25, stimulus_start_time+0.25),\n",
    "    )\n",
    "\n",
    "ax.axvline(x=stimulus_start_time, color=\"k\", linestyle=\"-\")\n",
    "ax.set_title('dF/F responses')\n",
    "ax.set_ylabel('dF/F')\n",
    "ax.set_xlabel('time in session (seconds)')\n",
    "fig.tight_layout()\n",
    "fig.show()"
   ]
  },
  {
   "cell_type": "code",
   "execution_count": 37,
   "id": "16b33875-265d-40e6-94ab-9be6420ea174",
   "metadata": {},
   "outputs": [
    {
     "data": {
      "image/png": "[encoded data removed]",
      "text/plain": [
       "<Figure size 1080x288 with 1 Axes>"
      ]
     },
     "metadata": {
      "needs_background": "light"
     },
     "output_type": "display_data"
    }
   ],
   "source": [
    "fig, ax = plt.subplots(1, 1, figsize = (15, 4))\n",
    "\n",
    "for stimulus_start_time in stimulus_start_times[:30]:\n",
    "    for cell_specimen_id in [1086578313]:\n",
    "        ax.plot(\n",
    "            get_timestamps_in_interval(active_experiment, cell_specimen_id, stimulus_start_time-0.25, stimulus_start_time+0.25),\n",
    "            get_dff_in_interval(active_experiment, cell_specimen_id, stimulus_start_time-0.25, stimulus_start_time+0.25),\n",
    "        )\n",
    "    ax.axvline(x=stimulus_start_time, color=\"k\", linestyle=\"-\")\n",
    "\n",
    "ax.set_title('dF/F responses')\n",
    "ax.set_ylabel('dF/F')\n",
    "ax.set_xlabel('time in session (seconds)')\n",
    "fig.tight_layout()\n",
    "fig.show()"
   ]
  },
  {
   "cell_type": "code",
   "execution_count": null,
   "id": "c09982ec-8061-4487-a39f-2036c666f9f2",
   "metadata": {},
   "outputs": [],
   "source": []
  }
 ],
 "metadata": {
  "kernelspec": {
   "display_name": "Python [conda env:nma-cn]",
   "language": "python",
   "name": "conda-env-nma-cn-py"
  },
  "language_info": {
   "codemirror_mode": {
    "name": "ipython",
    "version": 3
   },
   "file_extension": ".py",
   "mimetype": "text/x-python",
   "name": "python",
   "nbconvert_exporter": "python",
   "pygments_lexer": "ipython3",
   "version": "3.8.10"
  }
 },
 "nbformat": 4,
 "nbformat_minor": 5
}
