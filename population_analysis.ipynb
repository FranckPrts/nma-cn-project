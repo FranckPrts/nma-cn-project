{
 "cells": [
  {
   "cell_type": "markdown",
   "id": "ca89c69d-9fec-47ac-b259-9b02df39b4b6",
   "metadata": {
    "id": "ca89c69d-9fec-47ac-b259-9b02df39b4b6"
   },
   "source": [
    "# NMA CN Project"
   ]
  },
  {
   "cell_type": "markdown",
   "id": "7bf2a32b-3365-4ba6-ac6a-e5b05c843c36",
   "metadata": {
    "id": "7bf2a32b-3365-4ba6-ac6a-e5b05c843c36"
   },
   "source": [
    "- **Pod**: careful wolfs ⚠️🐺\n",
    "- **Question**: is there a difference in neural activation at the cell level following stimulus presentation in the active vs passive conditions?"
   ]
  },
  {
   "cell_type": "markdown",
   "id": "2def5091-2dc1-47e1-95f2-5b98b42ef8ec",
   "metadata": {
    "tags": [],
    "toc-hr-collapsed": true
   },
   "source": [
    "## Imports"
   ]
  },
  {
   "cell_type": "code",
   "execution_count": 1,
   "id": "b939b49e-a136-4635-8e9f-683ddcc27a0f",
   "metadata": {
    "id": "b939b49e-a136-4635-8e9f-683ddcc27a0f"
   },
   "outputs": [],
   "source": [
    "# Only for Colab\n",
    "#!python -m pip install --upgrade pip\n",
    "#!pip install allensdk"
   ]
  },
  {
   "cell_type": "code",
   "execution_count": 2,
   "id": "f54b67f6-4d74-4581-bd9e-87f6ca1b65e5",
   "metadata": {
    "id": "f54b67f6-4d74-4581-bd9e-87f6ca1b65e5"
   },
   "outputs": [
    {
     "name": "stderr",
     "output_type": "stream",
     "text": [
      "/home/seungjaeryanlee/anaconda3/envs/nma-cn/lib/python3.8/site-packages/allensdk/brain_observatory/session_api_utils.py:15: FutureWarning: pandas.util.testing is deprecated. Use the functions in the public API at pandas.testing instead.\n",
      "  from pandas.util.testing import assert_frame_equal\n"
     ]
    }
   ],
   "source": [
    "from pathlib import Path\n",
    "import os\n",
    "import pickle\n",
    "import time\n",
    "\n",
    "import matplotlib.pyplot as plt\n",
    "import numpy as np\n",
    "import pandas as pd\n",
    "from scipy.stats import zscore\n",
    "import seaborn as sns\n",
    "from tqdm import tqdm\n",
    "\n",
    "import allensdk\n",
    "from allensdk.brain_observatory.behavior.behavior_project_cache import VisualBehaviorOphysProjectCache"
   ]
  },
  {
   "cell_type": "markdown",
   "id": "b3d5924d-c239-4416-9a0b-7e5ab733aed2",
   "metadata": {
    "tags": [],
    "toc-hr-collapsed": true
   },
   "source": [
    "## Setup AllenSDK"
   ]
  },
  {
   "cell_type": "code",
   "execution_count": 3,
   "id": "384272fc-6e1a-48fc-95c3-b8e8c82bb0ce",
   "metadata": {
    "id": "384272fc-6e1a-48fc-95c3-b8e8c82bb0ce"
   },
   "outputs": [],
   "source": [
    "!mkdir -p allensdk_storage\n",
    "DATA_STORAGE_DIRECTORY = Path(\"./allensdk_storage\")"
   ]
  },
  {
   "cell_type": "code",
   "execution_count": 4,
   "id": "7e4dec19-a09f-42a9-acca-83783f51484e",
   "metadata": {
    "id": "7e4dec19-a09f-42a9-acca-83783f51484e"
   },
   "outputs": [],
   "source": [
    "cache = VisualBehaviorOphysProjectCache.from_s3_cache(cache_dir=DATA_STORAGE_DIRECTORY)"
   ]
  },
  {
   "cell_type": "code",
   "execution_count": 5,
   "id": "a278be53-4b29-42e6-9acd-564705fb6c5f",
   "metadata": {
    "id": "a278be53-4b29-42e6-9acd-564705fb6c5f"
   },
   "outputs": [],
   "source": [
    "experiments_df = cache.get_ophys_experiment_table()"
   ]
  },
  {
   "cell_type": "markdown",
   "id": "cbdcff08-33da-4c3d-9277-2dc93e38533a",
   "metadata": {
    "id": "cbdcff08-33da-4c3d-9277-2dc93e38533a",
    "tags": [],
    "toc-hr-collapsed": true
   },
   "source": [
    "## Filter `experiments_df`"
   ]
  },
  {
   "cell_type": "code",
   "execution_count": 6,
   "id": "80b44ef8-a5e5-473c-ba44-4454b006fbba",
   "metadata": {},
   "outputs": [],
   "source": [
    "PROJECT_CODE = \"VisualBehavior\"\n",
    "FULL_GENOTYPE = \"Slc17a7-IRES2-Cre/wt;Camk2a-tTA/wt;Ai93(TITL-GCaMP6f)/wt\""
   ]
  },
  {
   "cell_type": "code",
   "execution_count": 7,
   "id": "14ccc625-b8b8-47b8-bb7e-8cd72acfdb55",
   "metadata": {},
   "outputs": [],
   "source": [
    "filtered_experiments_df = experiments_df.query(\"project_code == @PROJECT_CODE\") \\\n",
    "                                        .query(\"full_genotype == @FULL_GENOTYPE\")"
   ]
  },
  {
   "cell_type": "markdown",
   "id": "83bb5a30-abee-445a-83ea-538d9d09d402",
   "metadata": {
    "tags": [],
    "toc-hr-collapsed": true
   },
   "source": [
    "## General Helper Functions\n",
    "- `get_cell_specimen_ids(experiment)`\n",
    "- `get_indices_in_interval(experiment, start, end)`\n",
    "- `get_timestamps_in_interval(experiment, start, end)`\n",
    "- `get_cell_dff_in_interval(experiment, cell_specimen_id, start, end)`"
   ]
  },
  {
   "cell_type": "code",
   "execution_count": 8,
   "id": "64518268-ab1d-4956-a859-823909c015a9",
   "metadata": {},
   "outputs": [],
   "source": [
    "def get_cell_specimen_ids(experiment):\n",
    "    \"\"\"\n",
    "    Get all the cell specimen ids recorded in the experiment.\n",
    "    \"\"\"\n",
    "    return experiment.dff_traces.index"
   ]
  },
  {
   "cell_type": "code",
   "execution_count": 9,
   "id": "8dc05a67-d9e7-4246-99bb-7361cef6d4b4",
   "metadata": {},
   "outputs": [],
   "source": [
    "def get_indices_in_interval(experiment, start, end):\n",
    "    \"\"\"\n",
    "    Get all indices of timestamps where dF/F trace was recorded during a specified interval.\n",
    "    \"\"\"\n",
    "    indices = np.argwhere((experiment.ophys_timestamps >= start) & (experiment.ophys_timestamps <= end))[:, 0]\n",
    "    return indices"
   ]
  },
  {
   "cell_type": "code",
   "execution_count": 10,
   "id": "480457cb-b746-4d0f-a03e-f5f05e3bd517",
   "metadata": {},
   "outputs": [],
   "source": [
    "def get_timestamps_in_interval(experiment, start, end):\n",
    "    \"\"\"\n",
    "    Get all timestamps when dF/F trace was recorded during a specified interval.\n",
    "    \"\"\"\n",
    "    indices = get_indices_in_interval(experiment, start, end)\n",
    "    return experiment.ophys_timestamps[indices]"
   ]
  },
  {
   "cell_type": "code",
   "execution_count": 11,
   "id": "dcf208ba-145a-4744-81d9-a91ff682fc79",
   "metadata": {},
   "outputs": [],
   "source": [
    "def get_cell_dff_in_interval(experiment, cell_specimen_id, start, end):\n",
    "    \"\"\"\n",
    "    Get dF/F trace for one cell during a specified interval.\n",
    "    \"\"\"\n",
    "    indices = get_indices_in_interval(experiment, start, end)\n",
    "    return experiment.dff_traces.loc[cell_specimen_id][\"dff\"][indices[0]:indices[-1]+1]"
   ]
  },
  {
   "cell_type": "markdown",
   "id": "7339c82e-0fbc-43a5-af2b-c274d92db476",
   "metadata": {
    "tags": []
   },
   "source": [
    "## Compute Representational Dissimilarity Matrix (RDM)\n",
    "\n",
    "$$ RDM = 1-\\frac{1}{N} ZZ^T $$\n",
    "- $Z$: z-scored response matrix with rows $r^{(s)}$ for each stimulus\n",
    "- $N$: Number of neurons\n",
    "- [Related tutorial](https://compneuro.neuromatch.io/tutorials/W2D1_DeepLearning/student/W2D1_Tutorial3.html#section-2-1-representational-dissimilarity-matrix-rdm)"
   ]
  },
  {
   "cell_type": "markdown",
   "id": "6ae1dec9-d003-4d7f-8304-de5a1be2e198",
   "metadata": {
    "tags": []
   },
   "source": [
    "### RDM Helper Functions\n",
    "- `calculate_RDM(experiment, f_agg=np.mean, start_timedelta=0, end_timedelta=0.25)`\n",
    "- `plot_RDMs(rdm_dict)`\n",
    "- ```\n",
    "calculate_and_plot_RDMs(\n",
    "    experiment_ids,\n",
    "    f_aggs=np.mean,\n",
    "    start_timedelta=0,\n",
    "    end_timedelta=0.25,\n",
    "    cmap=\"RdYlBu_r\",\n",
    "    save_dir=\"logs/RDM/\",\n",
    "    save_RDM_as=None,\n",
    "    save_fig_as=None,\n",
    ")\n",
    "```\n",
    "- `load_RDM(filepath)`\n",
    "- `correlate_RDMs(RDM1, RDM2)`\n",
    "- `plot_RDM_correlations(RDMs_dict, base_RDM_key)`"
   ]
  },
  {
   "cell_type": "markdown",
   "id": "1a3af7cc-176e-401b-b455-f76f4337e7d9",
   "metadata": {},
   "source": [
    "$$\n",
    "R = \\begin{bmatrix}\n",
    "s=1, c=1 & s=1, c=2 & \\ldots & s=1, c=N \\\\\n",
    "s=2, c=1 & s=2, c=2 & \\ldots & s=2, c=N \\\\\n",
    "\\vdots  & \\vdots  & \\ddots & \\vdots  \\\\\n",
    "s=S, c=1 & s=S, c=2 & \\ldots & s=S, c=N \\\\\n",
    "\\end{bmatrix}\n",
    "$$"
   ]
  },
  {
   "cell_type": "code",
   "execution_count": 12,
   "id": "kCd3pmUinVEn",
   "metadata": {
    "id": "kCd3pmUinVEn"
   },
   "outputs": [],
   "source": [
    "def calculate_RDM(experiment, f_agg=np.mean, start_timedelta=0, end_timedelta=0.25):\n",
    "    \"\"\"\n",
    "    Calculate the RDM.\n",
    "    \"\"\"\n",
    "    # Matrix of all recorded dff values (shape: #cells x #timestamps)\n",
    "    dff_matrix = np.vstack(experiment.dff_traces.dff.values)\n",
    "\n",
    "    # Matrix of all unnormalized responses (shape: #stimulus_presentations x #cells)\n",
    "    response_matrix = []\n",
    "    response_vectors = []\n",
    "    for stimulus_name in experiment.stimulus_presentations.query(\"not omitted\")[\"image_name\"].unique():\n",
    "        stimulus_start_times = experiment.stimulus_presentations.query('image_name == @stimulus_name')[\"start_time\"]\n",
    "\n",
    "        # Vector of aggregated (mean/max) dff values of all cells for all stimulus presentations\n",
    "        # (shape: #stimulus_presentations x #cells)\n",
    "        listof_population_agg_dff_in_interval = []\n",
    "        for stimulus_start_time in stimulus_start_times:\n",
    "            indices = get_indices_in_interval(\n",
    "                experiment,\n",
    "                start=stimulus_start_time + start_timedelta,\n",
    "                end=stimulus_start_time + end_timedelta,\n",
    "            )\n",
    "            # Matrix of recorded dff values of all cells for particular interval\n",
    "            # (shape: #cells x #timestamps_in_interval)\n",
    "            population_dff_in_interval = dff_matrix[:, indices]\n",
    "            # Vector of aggregated (mean/max) dff values of all cells for particular interval (shape: #cells)\n",
    "            population_agg_dff_in_interval = f_agg(population_dff_in_interval, axis=1)\n",
    "            listof_population_agg_dff_in_interval.append(population_agg_dff_in_interval)\n",
    "        # Vector of aggregated (mean/max) dff values averaged for all stimulus presentations\n",
    "        response_vector = np.mean(np.vstack(listof_population_agg_dff_in_interval), axis=0)\n",
    "        response_vectors.append(response_vector)\n",
    "    response_matrix = np.vstack(response_vectors)\n",
    "\n",
    "    # Compute RDM\n",
    "    zscored_response_matrix = zscore(response_matrix, axis=1)\n",
    "    RDM = 1 - (zscored_response_matrix @ zscored_response_matrix.T) / zscored_response_matrix.shape[1]\n",
    "\n",
    "    return RDM"
   ]
  },
  {
   "cell_type": "code",
   "execution_count": 13,
   "id": "428b4cbc-23cc-4c18-865f-1c32d8d69453",
   "metadata": {},
   "outputs": [],
   "source": [
    "def plot_RDMs(rdm_dict):\n",
    "    \"\"\"Draw multiple subplots for each RDM in rdm_dict.\"\"\"\n",
    "    fig, axs = plt.subplots(1, len(rdm_dict), figsize=(4 * len(rdm_dict), 3.5))\n",
    "\n",
    "    # Compute RDM's for each set of responses and plot\n",
    "    for i, (label, rdm) in enumerate(rdm_dict.items()):\n",
    "        sns.heatmap(rdm, ax=axs[i], cmap=\"RdYlBu_r\", vmin=0.0, vmax=1.0)\n",
    "        axs[i].set_title(label)"
   ]
  },
  {
   "cell_type": "code",
   "execution_count": 14,
   "id": "baa977a2-6940-4212-847c-600d62fa9cdb",
   "metadata": {},
   "outputs": [],
   "source": [
    "def calculate_and_plot_RDMs(\n",
    "    experiment_ids,\n",
    "    f_aggs=np.mean,\n",
    "    start_timedelta=0,\n",
    "    end_timedelta=0.25,\n",
    "    cmap=\"RdYlBu_r\",\n",
    "    save_dir=\"logs/RDM\",\n",
    "    save_RDM_as=None,\n",
    "    save_fig_as=None,\n",
    "):\n",
    "    fig, axs = plt.subplots(1, len(experiment_ids), figsize=(4.5 * len(experiment_ids), 3.5))\n",
    "\n",
    "    RDMs_dict = {}\n",
    "    for i, experiment_id in enumerate(tqdm(experiment_ids)):\n",
    "        # Compute RDM\n",
    "        experiment = cache.get_behavior_ophys_experiment(experiment_id)\n",
    "        RDM = calculate_RDM(experiment, f_aggs, start_timedelta, end_timedelta)\n",
    "        RDMs_dict[experiment_id] = RDM\n",
    "\n",
    "        # Plot RDM\n",
    "        sns.heatmap(RDM, ax=axs[i], cmap=cmap, vmin=0.0, vmax=1.0)\n",
    "        mouse_id = experiment.metadata[\"mouse_id\"]\n",
    "        session_type = experiment.metadata[\"session_type\"]\n",
    "        axs[i].set_title(f\"{session_type}\\nMOUSE_ID={mouse_id}\\nEXPERIMENT_ID={experiment_id}\\nF_AGG={f_aggs.__name__}, INTERVAL=({start_timedelta},{end_timedelta})\")\n",
    "\n",
    "    # Save RDMs and plot\n",
    "    os.makedirs(save_dir, exist_ok=True)\n",
    "    timestamp = int(time.time())\n",
    "    if save_RDM_as is None:\n",
    "        save_RDM_as = timestamp\n",
    "    for experiment_id, RDM in RDMs_dict.items():\n",
    "        with open(f\"{save_dir}/{save_RDM_as}_{experiment_id}_{f_aggs.__name__}_{start_timedelta}_{end_timedelta}.rdm\", \"wb\") as f:\n",
    "            pickle.dump(RDM, f)\n",
    "            print(f\"RDM saved to {save_dir}/{save_RDM_as}_{experiment_id}_{f_aggs.__name__}_{start_timedelta}_{end_timedelta}.rdm\")\n",
    "    if save_fig_as is None:\n",
    "        save_fig_as = timestamp\n",
    "    fig.savefig(f\"{save_dir}/{save_fig_as}.png\", bbox_inches=\"tight\", pad_inches=0)\n",
    "    print(f\"Plot saved to {save_dir}/{save_fig_as}.png\")\n",
    "\n",
    "    return RDMs_dict"
   ]
  },
  {
   "cell_type": "code",
   "execution_count": 15,
   "id": "89520a8b-3fb0-4141-9416-eac8df65a4f1",
   "metadata": {},
   "outputs": [],
   "source": [
    "def load_RDM(filepath):\n",
    "    with open(filepath, \"rb\") as f:\n",
    "        RDM = pickle.load(f)\n",
    "    return RDM"
   ]
  },
  {
   "cell_type": "code",
   "execution_count": 16,
   "id": "f6a45499-b96b-4f78-ae0a-5944db22fe39",
   "metadata": {},
   "outputs": [],
   "source": [
    "def get_RDM_correlation(rdm1, rdm2):\n",
    "    \"\"\"Correlate off-diagonal elements of two RDM's\n",
    "\n",
    "    Args:\n",
    "    rdm1 (np.ndarray): S x S representational dissimilarity matrix\n",
    "    rdm2 (np.ndarray): S x S representational dissimilarity matrix to\n",
    "    correlate with rdm1\n",
    "\n",
    "    Returns:\n",
    "    float: correlation coefficient between the off-diagonal elements\n",
    "    of rdm1 and rdm2\n",
    "\n",
    "    \"\"\"\n",
    "\n",
    "    # Extract off-diagonal elements of each RDM\n",
    "    ioffdiag = np.triu_indices(rdm1.shape[0], k=1) # indices of off-diagonal elements\n",
    "    rdm1_offdiag = rdm1[ioffdiag]\n",
    "    rdm2_offdiag = rdm2[ioffdiag]\n",
    "\n",
    "    corr_coef = np.corrcoef(rdm1_offdiag, rdm2_offdiag)[0,1]\n",
    "\n",
    "    return corr_coef"
   ]
  },
  {
   "cell_type": "code",
   "execution_count": 17,
   "id": "c2cb687c-5078-411f-9a11-e876eb07929f",
   "metadata": {},
   "outputs": [],
   "source": [
    "def plot_RDM_correlations(RDMs_dict, base_RDM_key):\n",
    "    keys, corrs = [], []\n",
    "    for key, RDM in RDMs_dict.items():\n",
    "        if key != base_RDM_key:\n",
    "            keys.append(str(key))\n",
    "            corrs.append(get_RDM_correlation(RDMs_dict[base_RDM_key], RDM))\n",
    "\n",
    "    fig, ax = plt.subplots()\n",
    "\n",
    "    ax.bar(keys, corrs)\n",
    "    ax.bar_label(ax.containers[0])\n",
    "    ax.set_title(f\"Base RDM: {base_RDM_key}\")\n",
    "    ax.set_xlabel(\"RDMs\")\n",
    "    ax.set_ylabel(\"Correlation with base RDM\")\n",
    "    ax.set_ylim(-1, 1)\n",
    "\n",
    "    fig.show()"
   ]
  },
  {
   "cell_type": "markdown",
   "id": "65952645-461d-467f-a258-d1760e55864e",
   "metadata": {
    "tags": []
   },
   "source": [
    "### Select `MOUSE_ID` and `SESSION_TYPE`"
   ]
  },
  {
   "cell_type": "code",
   "execution_count": 18,
   "id": "0fb5d194-387a-44b9-bf48-9678910bf5df",
   "metadata": {},
   "outputs": [
    {
     "data": {
      "text/plain": [
       "array([450471, 459777, 459773, 447663, 445270, 403491, 456917, 456916,\n",
       "       425493, 431023, 436662, 440298, 431252, 453913, 412366, 425496,\n",
       "       445002])"
      ]
     },
     "execution_count": 18,
     "metadata": {},
     "output_type": "execute_result"
    }
   ],
   "source": [
    "filtered_experiments_df[\"mouse_id\"].unique()"
   ]
  },
  {
   "cell_type": "code",
   "execution_count": 19,
   "id": "27140a61-458d-4606-ac59-c1c1335386e0",
   "metadata": {
    "id": "e868d5cf-f53b-447c-8aae-64e4345b4294"
   },
   "outputs": [],
   "source": [
    "MOUSE_ID = 450471"
   ]
  },
  {
   "cell_type": "code",
   "execution_count": 20,
   "id": "bfa7de86-a124-47a9-91d3-4faccaa229e4",
   "metadata": {
    "colab": {
     "base_uri": "https://localhost:8080/"
    },
    "id": "08c0cf29-1aa7-4574-979a-189dd99c7e50",
    "outputId": "5f8cc027-0e64-45b8-e517-0160a07a40be"
   },
   "outputs": [
    {
     "data": {
      "text/plain": [
       "ophys_experiment_id\n",
       "871155338            OPHYS_1_images_A\n",
       "872433717            OPHYS_1_images_A\n",
       "873156540            OPHYS_1_images_A\n",
       "873972085            OPHYS_1_images_A\n",
       "877022592    OPHYS_2_images_A_passive\n",
       "878363088            OPHYS_3_images_A\n",
       "879331157            OPHYS_4_images_B\n",
       "880374622    OPHYS_5_images_B_passive\n",
       "880961028            OPHYS_6_images_B\n",
       "Name: session_type, dtype: object"
      ]
     },
     "execution_count": 20,
     "metadata": {},
     "output_type": "execute_result"
    }
   ],
   "source": [
    "filtered_experiments_df.query(\"mouse_id == @MOUSE_ID\")[\"session_type\"]"
   ]
  },
  {
   "cell_type": "code",
   "execution_count": 21,
   "id": "3510bace-f71d-4978-af67-a4136ad051e6",
   "metadata": {},
   "outputs": [],
   "source": [
    "F1 = 871155338\n",
    "F2 = 877022592\n",
    "F3 = 878363088\n",
    "N1 = 879331157\n",
    "N2 = 880374622\n",
    "N3 = 880961028"
   ]
  },
  {
   "cell_type": "markdown",
   "id": "bcc551f8-2c30-465b-b8c0-6e44bf97e57a",
   "metadata": {},
   "source": [
    "### RDMs"
   ]
  },
  {
   "cell_type": "code",
   "execution_count": 22,
   "id": "500ab2d6-28ad-47bd-9931-0b3695a15a49",
   "metadata": {},
   "outputs": [
    {
     "name": "stderr",
     "output_type": "stream",
     "text": [
      "100%|██████████| 3/3 [00:36<00:00, 12.22s/it]\n"
     ]
    },
    {
     "name": "stdout",
     "output_type": "stream",
     "text": [
      "RDM saved to logs/RDM/1626809329_871155338_mean_0_0.25.rdm\n",
      "RDM saved to logs/RDM/1626809329_877022592_mean_0_0.25.rdm\n",
      "RDM saved to logs/RDM/1626809329_878363088_mean_0_0.25.rdm\n",
      "Plot saved to logs/RDM/1626809329.png\n"
     ]
    },
    {
     "data": {
      "image/png": "[encoded data removed]",
      "text/plain": [
       "<Figure size 972x252 with 6 Axes>"
      ]
     },
     "metadata": {
      "needs_background": "light"
     },
     "output_type": "display_data"
    }
   ],
   "source": [
    "F_RDMs_dict = calculate_and_plot_RDMs([F1, F2, F3])"
   ]
  },
  {
   "cell_type": "code",
   "execution_count": 23,
   "id": "1b27e068-5eb7-472f-98dc-c02e7ec01311",
   "metadata": {},
   "outputs": [
    {
     "data": {
      "image/png": "[encoded data removed]",
      "text/plain": [
       "<Figure size 432x288 with 1 Axes>"
      ]
     },
     "metadata": {
      "needs_background": "light"
     },
     "output_type": "display_data"
    }
   ],
   "source": [
    "plot_RDM_correlations(F_RDMs_dict, F1)"
   ]
  },
  {
   "cell_type": "code",
   "execution_count": 24,
   "id": "473fbcea-d5e7-47a2-b594-d55a4b2fb86a",
   "metadata": {},
   "outputs": [
    {
     "name": "stderr",
     "output_type": "stream",
     "text": [
      "100%|██████████| 3/3 [00:41<00:00, 13.83s/it]\n"
     ]
    },
    {
     "name": "stdout",
     "output_type": "stream",
     "text": [
      "RDM saved to logs/RDM/1626809372_879331157_mean_0_0.25.rdm\n",
      "RDM saved to logs/RDM/1626809372_880374622_mean_0_0.25.rdm\n",
      "RDM saved to logs/RDM/1626809372_880961028_mean_0_0.25.rdm\n",
      "Plot saved to logs/RDM/1626809372.png\n"
     ]
    },
    {
     "data": {
      "image/png": "[encoded data removed]",
      "text/plain": [
       "<Figure size 972x252 with 6 Axes>"
      ]
     },
     "metadata": {
      "needs_background": "light"
     },
     "output_type": "display_data"
    }
   ],
   "source": [
    "N_RDMs_dict = calculate_and_plot_RDMs([N1, N2, N3])"
   ]
  },
  {
   "cell_type": "code",
   "execution_count": 25,
   "id": "54461fd2-2a3d-4925-9e57-481954b440dc",
   "metadata": {},
   "outputs": [
    {
     "data": {
      "image/png": "[encoded data removed]",
      "text/plain": [
       "<Figure size 432x288 with 1 Axes>"
      ]
     },
     "metadata": {
      "needs_background": "light"
     },
     "output_type": "display_data"
    }
   ],
   "source": [
    "plot_RDM_correlations(N_RDMs_dict, N1)"
   ]
  },
  {
   "cell_type": "code",
   "execution_count": 26,
   "id": "1b468a94-89c2-4788-b6e4-baced4a26ebe",
   "metadata": {},
   "outputs": [
    {
     "data": {
      "image/png": "[encoded data removed]",
      "text/plain": [
       "<Figure size 432x288 with 1 Axes>"
      ]
     },
     "metadata": {
      "needs_background": "light"
     },
     "output_type": "display_data"
    }
   ],
   "source": [
    "plot_RDM_correlations({**F_RDMs_dict, **N_RDMs_dict}, F1)"
   ]
  }
 ],
 "metadata": {
  "colab": {
   "collapsed_sections": [
    "cb91a76d-02ab-46f2-99cc-ab33a81c695d",
    "f4365eb5-3efb-47a3-ae4c-219fbbc0c93f",
    "4cbbeb11-2ffa-454d-a4de-7517196a0451",
    "f6d9121e-ff34-4550-b3bd-f74a599bddd2",
    "dlKJ5a48tyJM",
    "90fa7fcd-c21d-4e60-aead-a976492f64d8",
    "20f3d0a8-6a13-47ae-924e-7915dd90312d",
    "a7b50b07-53a5-4a3b-92b1-4b611387bdd6",
    "4236ac34-800a-4b5a-aeca-fef46f231e67",
    "81186bf4-853d-4e21-9382-d50085850787",
    "a2573f6c-5847-4a54-bd6f-f85b634e65a6",
    "0fe61c82-ac22-430d-bc40-eeb8e1fc0566",
    "4627fb05-e5a9-4498-a5c1-5bd392a1d444",
    "3a3036fd-fdc7-4d5f-a221-780828a8f5cb",
    "adc184d6-ac4a-459d-9c84-6538d5d6664c",
    "a1a2cd94-19f7-4a41-911d-9c8764c46408",
    "effe102a-b6c0-4668-8e74-0ad7c7b7e727",
    "ecc64441-1710-47b1-b3d7-2de85de8763e",
    "e84c5e69-42c8-485f-9ebb-fd79c2864eed",
    "c26feee0-6a97-4e18-b472-03c907603f5a",
    "9dd0dc8a-275d-4383-a7e4-a28e8d5ed67a",
    "f41a5141-255e-48c4-8f68-f56f2799f60f",
    "d3c5f8b8-f71a-4934-b496-4c1f591f3e42",
    "2084984b-2c4b-48e8-8a72-3d9ffa74571d"
   ],
   "name": "RMD_after stimulis onset_starter-v2.ipynb",
   "provenance": []
  },
  "kernelspec": {
   "display_name": "Python [conda env:nma-cn]",
   "language": "python",
   "name": "conda-env-nma-cn-py"
  },
  "language_info": {
   "codemirror_mode": {
    "name": "ipython",
    "version": 3
   },
   "file_extension": ".py",
   "mimetype": "text/x-python",
   "name": "python",
   "nbconvert_exporter": "python",
   "pygments_lexer": "ipython3",
   "version": "3.8.10"
  }
 },
 "nbformat": 4,
 "nbformat_minor": 5
}
